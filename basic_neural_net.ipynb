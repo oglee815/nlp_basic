{
  "cells": [
    {
      "cell_type": "markdown",
      "source": [
        "#사용법\n",
        "\n",
        "1. 우측 상단 '로그인'\n",
        "\n",
        "2. 좌측 상단 '실습 모드에서 열기' 또는 'Drive에 사본 저장'\n",
        "\n",
        "※ 각각의 셀은 셀 좌측 상단 실행 버튼을 통해 실행할 수 있습니다.\n",
        "\n",
        "※ 혹은 CTRL + ENTER로 실행 가능합니다.\n",
        "\n",
        "※ 실행 중 '경고: 이 노트는 Google에서 작성하지 않았습니다.'라는 창이 뜰 경우, '실행 전에 모든 런타임 재설정'란에 체크 후 '무시하고 계속하기'를 하시면 됩니다."
      ],
      "metadata": {
        "id": "wKCD7b0pXLqJ"
      }
    },
    {
      "cell_type": "code",
      "source": [
        "# google drive 연동\n",
        "# 모두 '예' 선택\n",
        "from google.colab import drive\n",
        "drive.mount('/content/drive')"
      ],
      "metadata": {
        "colab": {
          "base_uri": "https://localhost:8080/"
        },
        "id": "T3YR83tTW91v",
        "outputId": "72f544ec-d900-4df3-df8a-9c61fe31effe"
      },
      "execution_count": null,
      "outputs": [
        {
          "output_type": "stream",
          "name": "stdout",
          "text": [
            "Mounted at /content/drive\n"
          ]
        }
      ]
    },
    {
      "cell_type": "code",
      "source": [
        "%cd /content/drive/MyDrive/"
      ],
      "metadata": {
        "colab": {
          "base_uri": "https://localhost:8080/"
        },
        "id": "fQBHwiVuXKrz",
        "outputId": "05cd304b-9309-40b2-c528-078f84793b2d"
      },
      "execution_count": null,
      "outputs": [
        {
          "output_type": "stream",
          "name": "stdout",
          "text": [
            "/content/drive/MyDrive\n"
          ]
        }
      ]
    },
    {
      "cell_type": "code",
      "source": [
        "# 실습에 필요한 코드 클론(이미 있다면 Pass)\n",
        "!git clone https://github.com/oglee815/nlp_basic.git"
      ],
      "metadata": {
        "colab": {
          "base_uri": "https://localhost:8080/"
        },
        "id": "bPtO1NiKXawH",
        "outputId": "f52ebd1e-ec03-48c7-ac74-7d5218048535"
      },
      "execution_count": null,
      "outputs": [
        {
          "output_type": "stream",
          "name": "stdout",
          "text": [
            "Cloning into 'nlp_basic'...\n",
            "remote: Enumerating objects: 40, done.\u001b[K\n",
            "remote: Counting objects: 100% (40/40), done.\u001b[K\n",
            "remote: Compressing objects: 100% (35/35), done.\u001b[K\n",
            "remote: Total 40 (delta 3), reused 0 (delta 0), pack-reused 0 (from 0)\u001b[K\n",
            "Receiving objects: 100% (40/40), 748.73 KiB | 3.74 MiB/s, done.\n",
            "Resolving deltas: 100% (3/3), done.\n"
          ]
        }
      ]
    },
    {
      "cell_type": "code",
      "source": [
        "%cd /content/drive/MyDrive/nlp_basic"
      ],
      "metadata": {
        "colab": {
          "base_uri": "https://localhost:8080/"
        },
        "id": "pKGvpqybXnVh",
        "outputId": "24456bb9-50aa-4fc3-ec2c-be1c6da1176b"
      },
      "execution_count": null,
      "outputs": [
        {
          "output_type": "stream",
          "name": "stdout",
          "text": [
            "/content/drive/MyDrive/nlp_basic\n"
          ]
        }
      ]
    },
    {
      "cell_type": "markdown",
      "source": [
        "# 신경망 연습"
      ],
      "metadata": {
        "id": "yhNorYx_ne8L"
      }
    },
    {
      "cell_type": "markdown",
      "source": [
        "## 싱글 노드 퍼셉트론\n",
        "다음과 같은 하나의 퍼셉트론을 계산하는 방법을 살펴보겠습니다.\n",
        "\n",
        "<img src=\"https://drive.google.com/uc?id=1UzP9820hYadTjMVMnYY4aYnZQiLql4Cm\" width=\"400\">\n",
        "\n",
        "\n",
        "입력은 x1, x2로 두개이며, 웨이트(엣지) 또한 w1, w2로 두개입니다.\n",
        "\n",
        "입력 데이터가 신경망에 입력되는 과정은 입력 행렬과 웨이트 행렬 간의 곱셈으로 간단히 표현 가능합니다.\n",
        "\n",
        "$$\n",
        "X=\\begin{bmatrix}\n",
        "x_1 \\ x_2\n",
        "\\end{bmatrix} \\\\\n",
        "W=\n",
        "\\begin{bmatrix}\n",
        "w_1 \\\\ w_2\n",
        "\\end{bmatrix}\\\\\n",
        "X \\cdot W = x_1w_1 + x_2w_2\n",
        "$$\n",
        "\n",
        "이후 bias가 더해집니다.\n",
        "$$x_1w_1 + x_2w_2 + b$$\n",
        "\n",
        "마지막으로 step function 혹은 sigmoid와 같은 activation function을 적용하면 최종 출력 값 y를 얻게 됩니다.\n",
        "\n",
        "$$\\text{step}(x_1w_1 + x_2w_2 + b)=y$$\n",
        "\n"
      ],
      "metadata": {
        "id": "AbKlpwltvTOA"
      }
    },
    {
      "cell_type": "code",
      "source": [
        "# 퍼셉트론 구현\n",
        "import numpy as np\n",
        "X = np.array([1, 2]) # 입력 데이터\n",
        "W = np.array([0.1, -0.2]) # 웨이트\n",
        "b = np.array([5]) # 바이어스\n",
        "out = np.dot(X, W) + b # 퍼셉트론에 입력\n",
        "\n",
        "def step_function(val):\n",
        "    if val > 0:\n",
        "        return 1\n",
        "    else:\n",
        "        return 0\n",
        "\n",
        "out = step_function(out)\n",
        "print(out)"
      ],
      "metadata": {
        "colab": {
          "base_uri": "https://localhost:8080/"
        },
        "id": "wj_HPt8CuiKf",
        "outputId": "6c7c380d-e881-4774-b124-6b38e7b1d32c"
      },
      "execution_count": null,
      "outputs": [
        {
          "output_type": "stream",
          "name": "stdout",
          "text": [
            "0\n"
          ]
        }
      ]
    },
    {
      "cell_type": "markdown",
      "source": [
        "## 멀티 노드 퍼셉트론\n",
        "\n",
        "이번엔 다음 그림과 같이 노드가 여러개인 퍼셉트론을 만들어 보겠습니다.\n",
        "\n",
        "\n",
        "<img src=\"https://drive.google.com/uc?id=18EGPp_hbXOSImw3fO90nGHZ41JUGvqvM\" width=\"300\">\n",
        "\n",
        "이번엔 노드가 2개 이므로, 웨이트가 4개가 되고 바이어스 또한 2개가 됩니다.\n",
        "\n",
        "$$\n",
        "\\textbf{X}=\\begin{bmatrix}\n",
        "x_1 \\\n",
        "x_2\n",
        "\\end{bmatrix} \\\\\n",
        "\\textbf{W}=\n",
        "\\begin{bmatrix}\n",
        "w_1 \\ w_3 \\\\\n",
        "w_2 \\ w_4\n",
        "\\end{bmatrix}\\\\\n",
        "\\textbf{b}=\n",
        "\\begin{bmatrix}\n",
        "b_1 \\\\ b_2\n",
        "\\end{bmatrix}\\\\\n",
        "$$\n",
        "\n",
        "입력과 웨이트 간의 행렬곱이 되는 과정은 다음과 같습니다.\n",
        "\n",
        "$$\\textbf{X} \\cdot \\textbf{W} + \\textbf{b} =\n",
        "\\begin{bmatrix}\n",
        "x_1w_1 + x_2w_2 +b_1, \\ x_1w_3 + x_2w_4+b_2\n",
        "\\end{bmatrix} \\\\\n",
        "$$\n",
        "\n",
        "이제 마찬가지로 Step/sigmoid function과 같은 Activation function을 통과시켜주면 결과값을 얻을 수 있습니다.\n",
        "\n",
        "$$\\text{sigmoid}(x_1w_1 + x_2w_2 + b_1)=y_1 \\\\ \\text{sigmoid}(x_1w_3 + x_2w_4 + b_2)=y_2$$\n"
      ],
      "metadata": {
        "id": "sZQ-TrypvUod"
      }
    },
    {
      "cell_type": "code",
      "source": [
        "# 멀티 노드 퍼셉트론 구현\n",
        "import numpy as np\n",
        "X = np.array([1, 2]) # 입력 데이터\n",
        "W = np.array([[0.1, 0.2], [0.4, 0.5]]) # 웨이트\n",
        "b = np.array([1, 2])# 바이어스\n",
        "out = np.dot(X, W) + b # 퍼셉트론에 입력\n",
        "\n",
        "def sigmoid(x):\n",
        "    return 1/(1+np.exp(-x))\n",
        "\n",
        "out = sigmoid(out)\n",
        "print(out)"
      ],
      "metadata": {
        "colab": {
          "base_uri": "https://localhost:8080/"
        },
        "id": "ptjXpZ1g2xWR",
        "outputId": "20ca99e2-7a9b-4cc6-d024-a5d74acd6653"
      },
      "execution_count": null,
      "outputs": [
        {
          "output_type": "stream",
          "name": "stdout",
          "text": [
            "[0.86989153 0.96083428]\n"
          ]
        }
      ]
    },
    {
      "cell_type": "markdown",
      "source": [
        "## 멀티 레이어 퍼셉트론\n",
        "\n",
        "이제 레이어가 여러개인 신경망에 대해서 알아보겠습니다.\n",
        "\n",
        "<img src=\"https://drive.google.com/uc?id=1DuWeQGt13aLoqwtDo5JFVSd8Cq3bXsyj\" width=\"400\">\n",
        "\n",
        "조금 복잡해보이지만, W와 b를 하나씩 더 추가해주면 됩니다.\n",
        "\n",
        "$$ \\textbf{X}=\n",
        "\\begin{bmatrix}\n",
        "x_1 \\\n",
        "x_2\n",
        "\\end{bmatrix} \\\\\n",
        "\\textbf{W}_1=\n",
        "\\begin{bmatrix}\n",
        "w_{11} \\ w_{13} \\\\\n",
        "w_{12} \\ w_{14}\n",
        "\\end{bmatrix},\n",
        "\\textbf{W}_2=\\begin{bmatrix}\n",
        "w_{21} \\ w_{23} \\\\\n",
        "w_{22} \\ w_{24}\n",
        "\\end{bmatrix} \\\\\n",
        "\\textbf{b}_1=\n",
        "\\begin{bmatrix}\n",
        "b_{11} \\\\ b_{12}\n",
        "\\end{bmatrix} ,\\textbf{b}_2=\n",
        "\\begin{bmatrix}\n",
        "b_{21} \\\\ b_{22}\n",
        "\\end{bmatrix}\n",
        "$$\n",
        "\n",
        "우선 아까와 같이 1층부터 통과한 값을 z1, z2라고 하겠습니다.\n",
        "\n",
        "$$\\textbf{X} \\cdot \\textbf{W}_1 + \\textbf{b}_1 = \\\\\n",
        "\\begin{bmatrix}\n",
        "\\text{sigmoid}(x_1w_{11} + x_2w_{12} + b_{11})\\\\ \\text{sigmoid}(x_1w_{13} + x_2w_{14} + b_{12})\n",
        "\\end{bmatrix}\n",
        "= \\begin{bmatrix}z_1 \\\\ z_2 \\end{bmatrix}\n",
        "$$\n",
        "\n",
        "이제 이 값들이 2번째 층의 입력이 되게 됩니다.\n",
        "\n",
        "$$\\textbf{Z} \\cdot \\textbf{W}_2 + \\textbf{b}_2 = \\\\\n",
        "\\begin{bmatrix}\n",
        "\\text{sigmoid}(z_1w_{21} + z_2w_{22} + b_{21})\\\\ \\text{sigmoid}(z_1w_{13} + z_2w_{24} + b_{22})\n",
        "\\end{bmatrix}\n",
        "= \\begin{bmatrix} y_1 \\\\ y_2 \\end{bmatrix}\n",
        "$$\n",
        "\n"
      ],
      "metadata": {
        "id": "NXTnBuFK4dXY"
      }
    },
    {
      "cell_type": "code",
      "source": [
        "# 멀티 노드 퍼셉트론 구현\n",
        "import numpy as np\n",
        "\n",
        "def sigmoid(x):\n",
        "    return 1/(1+np.exp(-x))\n",
        "\n",
        "X = np.array([1, 2]) # 입력 데이터\n",
        "W1 = np.array([[0.1, 0.2], [0.4, 0.5]]) # 1층 웨이트\n",
        "W2 = np.array([[-0.1, 0.3], [0.4, -0.1]]) # 2층 웨이트\n",
        "b1 = np.array([1, 2 ])# 1층 바이어스\n",
        "b2 = np.array([3, 4 ])# 2층 바이어스\n",
        "\n",
        "Z = np.dot(X, W1) + b1 # 1층에 입력\n",
        "Z = sigmoid(Z)\n",
        "\n",
        "out = np.dot(Z, W2) + b2 # 2층에 입력\n",
        "out = sigmoid(out)\n",
        "print(out)"
      ],
      "metadata": {
        "colab": {
          "base_uri": "https://localhost:8080/"
        },
        "id": "3ZajkNJC8qie",
        "outputId": "6afc625e-b015-4924-e078-efbcb526f587"
      },
      "execution_count": null,
      "outputs": [
        {
          "output_type": "stream",
          "name": "stdout",
          "text": [
            "[0.9643376  0.98470602]\n"
          ]
        }
      ]
    },
    {
      "cell_type": "markdown",
      "source": [
        "# 분류 모델 실습\n",
        "\n",
        "지금부터 해볼 실습은 신경망을 활용한 나선형 데이터 분류 작업입니다.\n",
        "\n",
        "데이터는 아래 그림처럼 나선형으로 생긴 3개의 클래스를 가지고 있습니다.\n",
        "\n",
        "입력 데이터는 x, y좌표 값을 가진 2차원 데이터입니다.\n",
        "\n",
        "정답은 3개의 클래스중 정답 위치에 1이 표시되어 있습니다."
      ],
      "metadata": {
        "id": "-frUn3fkZG8i"
      }
    },
    {
      "cell_type": "code",
      "execution_count": null,
      "metadata": {
        "colab": {
          "base_uri": "https://localhost:8080/",
          "height": 540
        },
        "id": "D9KJ8A6JWzxJ",
        "outputId": "fafcc362-95b4-4660-d4a5-b6634d388720"
      },
      "outputs": [
        {
          "output_type": "stream",
          "name": "stdout",
          "text": [
            "input_data [[-0.          0.        ]\n",
            " [ 0.00108323  0.00994116]\n",
            " [ 0.00611274  0.01904296]]\n",
            "label [[1 0 0]\n",
            " [1 0 0]\n",
            " [1 0 0]]\n"
          ]
        },
        {
          "output_type": "display_data",
          "data": {
            "text/plain": [
              "<Figure size 640x480 with 1 Axes>"
            ],
            "image/png": "[encoded data removed]"
          },
          "metadata": {}
        }
      ],
      "source": [
        "# coding: utf-8\n",
        "from dataset import spiral\n",
        "import matplotlib.pyplot as plt\n",
        "import random\n",
        "\n",
        "# 데이터 로드\n",
        "input_data, label = spiral.load_data(seed=100) # seed를 바꾸면 매번 조금씩 다른 데이터가 생성\n",
        "print('input_data', input_data[:3]) # 입력 데이터\n",
        "print('label', label[:3])  # 정답 데이터\n",
        "\n",
        "# 데이터 플롯\n",
        "N = 100\n",
        "CLS_NUM = 3\n",
        "markers = ['o', 'x', '^']\n",
        "for i in range(CLS_NUM):\n",
        "    plt.scatter(input_data[i*N:(i+1)*N, 0], input_data[i*N:(i+1)*N, 1], s=40, marker=markers[i])\n",
        "plt.show()"
      ]
    },
    {
      "cell_type": "markdown",
      "source": [
        "## 모델 아키텍처"
      ],
      "metadata": {
        "id": "CaysyAvS_2-H"
      }
    },
    {
      "cell_type": "code",
      "execution_count": null,
      "metadata": {
        "id": "Ec9IUXa3WzxK"
      },
      "outputs": [],
      "source": [
        "# coding: utf-8\n",
        "import numpy as np\n",
        "from common.layers import Affine, Sigmoid, SoftmaxWithLoss\n",
        "\n",
        "class Affine:\n",
        "    \"\"\"\n",
        "    Affine 계층 (완전 연결 계층)\n",
        "    Activation Function이 없는 Perceptron이라고 이해\n",
        "\n",
        "    Attributes:\n",
        "        params (list): 가중치(W)와 편향(b)을 저장하는 리스트\n",
        "        grads (list): 가중치(W)와 편향(b)에 대한 기울기를 저장하는 리스트\n",
        "        x (ndarray): forward 계산 시 입력 데이터를 저장 (backward 계산에 사용)\n",
        "    \"\"\"\n",
        "    def __init__(self, W, b):\n",
        "        \"\"\"\n",
        "        Affine 계층 초기화\n",
        "        Args:\n",
        "            W (ndarray): 가중치 행렬\n",
        "            b (ndarray): 편향 벡터\n",
        "        \"\"\"\n",
        "        self.params = [W, b]\n",
        "        self.grads = [np.zeros_like(W), np.zeros_like(b)]  # 기울기 초기화\n",
        "        self.x = None\n",
        "\n",
        "    def forward(self, x):\n",
        "        \"\"\"\n",
        "        순전파 계산\n",
        "        Args:\n",
        "            x (ndarray): 입력 데이터\n",
        "        Returns:\n",
        "            ndarray: Affine 변환 결과\n",
        "        \"\"\"\n",
        "        W, b = self.params\n",
        "        out = np.dot(x, W) + b  # Affine 변환 계산\n",
        "        self.x = x  # 입력 데이터 저장\n",
        "        return out\n",
        "\n",
        "    def backward(self, dout):\n",
        "        \"\"\"\n",
        "        역전파 계산\n",
        "        Args:\n",
        "            dout (ndarray): 출력층 쪽에서 전달되는 기울기\n",
        "        Returns:\n",
        "            ndarray: 입력층 쪽으로 전달되는 기울기\n",
        "        \"\"\"\n",
        "        W, b = self.params\n",
        "        dx = np.dot(dout, W.T)  # 입력 데이터에 대한 기울기 계산\n",
        "        dW = np.dot(self.x.T, dout)  # 가중치에 대한 기울기 계산\n",
        "        db = np.sum(dout, axis=0)  # 편향에 대한 기울기 계산\n",
        "\n",
        "        self.grads[0][...] = dW  # 가중치 기울기 저장\n",
        "        self.grads[1][...] = db  # 편향 기울기 저장\n",
        "        return dx\n",
        "\n",
        "class MultiLayerNet:\n",
        "    \"\"\"\n",
        "    다층 신경망 (Multi-Layer Neural Network)\n",
        "\n",
        "    Attributes:\n",
        "        input_size (int): 입력층의 뉴런 수\n",
        "        hidden_size (int): 은닉층의 뉴런 수\n",
        "        output_size (int): 출력층의 뉴런 수\n",
        "        layers (list): 신경망을 구성하는 계층들을 저장하는 리스트\n",
        "        loss_layer (SoftmaxWithLoss): 손실 함수 계층\n",
        "        params (list): 모든 계층의 가중치와 편향을 저장하는 리스트\n",
        "        grads (list): 모든 계층의 가중치와 편향에 대한 기울기를 저장하는 리스트\n",
        "    \"\"\"\n",
        "    def __init__(self, input_size, hidden_size, output_size):\n",
        "        \"\"\"\n",
        "        다층 신경망 초기화\n",
        "\n",
        "        Args:\n",
        "            input_size (int): 입력층의 뉴런 수\n",
        "            hidden_size (int): 은닉층의 뉴런 수\n",
        "            output_size (int): 출력층의 뉴런 수\n",
        "        \"\"\"\n",
        "        I, H, O = input_size, hidden_size, output_size\n",
        "\n",
        "        # 가중치와 편향 초기화 (Initialize weights and biases)\n",
        "        W1 = 0.01 * np.random.randn(I, H)\n",
        "        b1 = np.zeros(H)\n",
        "        W2 = 0.01 * np.random.randn(H, O)\n",
        "        b2 = np.zeros(O)\n",
        "\n",
        "        # 계층 생성 (Create layers)\n",
        "        self.layers = [\n",
        "            Affine(W1, b1),\n",
        "            Sigmoid(),\n",
        "            Affine(W2, b2)\n",
        "        ]\n",
        "        self.loss_layer = SoftmaxWithLoss()\n",
        "\n",
        "        # 모든 가중치와 기울기를 리스트에 모은다. (Gather all weights and gradients)\n",
        "        self.params, self.grads = [], []\n",
        "        for layer in self.layers:\n",
        "            self.params += layer.params\n",
        "            self.grads += layer.grads\n",
        "\n",
        "    def predict(self, x):\n",
        "        \"\"\"\n",
        "        예측 (Prediction)\n",
        "\n",
        "        Args:\n",
        "            x (ndarray): 입력 데이터\n",
        "\n",
        "        Returns:\n",
        "            ndarray: 예측 결과\n",
        "        \"\"\"\n",
        "        for layer in self.layers:\n",
        "            x = layer.forward(x)\n",
        "        return x\n",
        "\n",
        "    def forward(self, x, t):\n",
        "        \"\"\"\n",
        "        순전파 (Forward propagation)\n",
        "\n",
        "        Args:\n",
        "            x (ndarray): 입력 데이터\n",
        "            t (ndarray): 정답 레이블\n",
        "\n",
        "        Returns:\n",
        "            float: 손실 값\n",
        "        \"\"\"\n",
        "        score = self.predict(x)\n",
        "        loss = self.loss_layer.forward(score, t)\n",
        "        return loss\n",
        "\n",
        "    def backward(self, dout=1):\n",
        "        \"\"\"\n",
        "        역전파 (Backpropagation)\n",
        "\n",
        "        Args:\n",
        "            dout (float): 출력층 쪽에서 전달되는 기울기 (초기값은 1)\n",
        "\n",
        "        Returns:\n",
        "            ndarray: 입력층 쪽으로 전달되는 기울기\n",
        "        \"\"\"\n",
        "        dout = self.loss_layer.backward(dout)\n",
        "        for layer in reversed(self.layers):\n",
        "            dout = layer.backward(dout)\n",
        "        return dout\n"
      ]
    },
    {
      "cell_type": "markdown",
      "source": [
        "## 하이퍼 파라미터 정의\n",
        "\n",
        "**하이퍼 파라미터란?**\n",
        "\n",
        "머신러닝에서는 2가지 파라미터가 있음\n",
        "\n",
        "- 모델 파라미터: 모델이 학습 과정에서 데이터로부터 자동으로 배우는 값들로서 신경망의 가중치(weights)와 편향(biases) 등을 의미\n",
        "- 하이퍼 파라미터: 모델 학습 시작 전에 사용자가 직접 설정해야 하는 값들입니다. 이 값들은 모델의 구조나 학습 방법에 영향을 미치며, 모델의 성능에 큰 영향을 미칩니다. 하이퍼 파라미터는 학습 과정에서 자동으로 업데이트되지 않으며, 최적의 값을 찾기 위해 다양한 시도를 통해 튜닝(tuning)해야 합니다.\n",
        "\n",
        "**가장 중요한 하이퍼 파라미터**\n",
        "\n",
        "1. **Batch Size (배치 크기):**\n",
        "Batch size는 모델을 학습시킬 때 한 번의 파라미터 업데이트(iteration)에 사용되는 데이터 샘플의 개수를 의미. 전체 학습 데이터를 한 번에 모두 사용하여 모델 파라미터를 업데이트하는 대신, 데이터를 작은 덩어리(batch)로 나누어 사용함.\n",
        "\n",
        "    - Batch size가 모델 학습에 미치는 영향:\n",
        "\n",
        "        - 작은 배치 크기: 메모리 사용량이 적음. 손실 함수의 변동이 크고, 지역 최솟값에서 탈출할 가능성이 높음.\n",
        "        - 큰 배치 크기: 메모리 사용량이 많음. 업데이트당 시간이 더 오래 걸리지만, 경사 계산이 더 정확하여 수렴이 안정적.\n",
        "\n",
        "2. **Epoch (에폭)**:\n",
        "Epoch는 전체 학습 데이터셋을 모델이 한 번 완전히 통과하여 학습을 마치는 과정을 의미.\n",
        "모델은 에폭을 반복하며 학습 데이터셋을 여러 번 보게 됨. 각 에폭이 완료될 때마다 모델은 데이터셋 전체를 한 번 학습한 것입니다. 배치 크기를 사용하는 경우, 한 에폭은 (전체 샘플 수 / 배치 크기) 만큼의 반복(iteration) 또는 스텝(step)으로 구성된다.\n",
        "\n",
        "    - Epoch 수가 모델 학습에 미치는 영향:\n",
        "\n",
        "        - 적은 에폭: 모델이 데이터를 충분히 학습하지 못하여 **과소적합(underfitting)**이 발생할 수 있음. 훈련 데이터에서도 성능이 낮게 나옵니다.\n",
        "        - 많은 에폭 수: 모델이 데이터를 너무 많이 학습하여 **과적합(overfitting)**이 발생할 수 있음. 훈련 데이터에서는 성능이 매우 좋게 나오지만, 처음 보는 데이터(검증/테스트 데이터)에서는 성능이 떨어짐.\n",
        "학습 시간이 오래 걸림."
      ],
      "metadata": {
        "id": "GR-6TxawAOoh"
      }
    },
    {
      "cell_type": "code",
      "execution_count": null,
      "metadata": {
        "id": "lNpIu9N0WzxL"
      },
      "outputs": [],
      "source": [
        "# coding: utf-8\n",
        "import numpy as np\n",
        "from common.optimizer import SGD\n",
        "from dataset import spiral\n",
        "import matplotlib.pyplot as plt\n",
        "\n",
        "# 하이퍼파라미터 설정\n",
        "max_epoch = 100\n",
        "batch_size = 30\n",
        "hidden_size = 10\n",
        "learning_rate = 1.0\n",
        "\n",
        "# 데이터 읽기, 모델과 옵티마이저 생성\n",
        "x, t = spiral.load_data(seed=1234)\n",
        "model = MultiLayerNet(input_size=2, hidden_size=hidden_size, output_size=3)\n",
        "optimizer = SGD(lr=learning_rate)\n",
        "\n",
        "# 학습에 사용하는 변수\n",
        "data_size = len(x)\n",
        "max_iters = data_size // batch_size\n",
        "total_loss = 0\n",
        "loss_count = 0\n",
        "loss_list = []"
      ]
    },
    {
      "cell_type": "markdown",
      "source": [
        "## 학습 시작"
      ],
      "metadata": {
        "id": "8KxJdHfvARkW"
      }
    },
    {
      "cell_type": "code",
      "source": [
        "# 학습 시작\n",
        "for epoch in range(max_epoch):\n",
        "    # 데이터 뒤섞기\n",
        "    idx = np.random.permutation(data_size)\n",
        "    x = x[idx]\n",
        "    t = t[idx]\n",
        "\n",
        "    for iters in range(max_iters):\n",
        "        batch_x = x[iters*batch_size:(iters+1)*batch_size]\n",
        "        batch_t = t[iters*batch_size:(iters+1)*batch_size]\n",
        "\n",
        "        # 기울기를 구해 매개변수 갱신\n",
        "        loss = model.forward(batch_x, batch_t)\n",
        "        model.backward()\n",
        "        optimizer.update(model.params, model.grads)\n",
        "\n",
        "        total_loss += loss\n",
        "        loss_count += 1\n",
        "\n",
        "        # 정기적으로 학습 경과 출력\n",
        "        if (iters+1) % 10 == 0:\n",
        "            avg_loss = total_loss / loss_count\n",
        "            print('| 에폭 %d |  반복 %d / %d | 손실 %.2f'\n",
        "                  % (epoch + 1, iters + 1, max_iters, avg_loss))\n",
        "            loss_list.append(avg_loss)\n",
        "            total_loss, loss_count = 0, 0"
      ],
      "metadata": {
        "colab": {
          "base_uri": "https://localhost:8080/"
        },
        "collapsed": true,
        "id": "epuOU0OkAFOQ",
        "outputId": "9fcd7ea5-698d-45a7-f8d0-3cad427a0a53"
      },
      "execution_count": null,
      "outputs": [
        {
          "output_type": "stream",
          "name": "stdout",
          "text": [
            "| 에폭 1 |  반복 10 / 10 | 손실 1.13\n",
            "| 에폭 2 |  반복 10 / 10 | 손실 1.19\n",
            "| 에폭 3 |  반복 10 / 10 | 손실 1.13\n",
            "| 에폭 4 |  반복 10 / 10 | 손실 1.14\n",
            "| 에폭 5 |  반복 10 / 10 | 손실 1.12\n",
            "| 에폭 6 |  반복 10 / 10 | 손실 1.13\n",
            "| 에폭 7 |  반복 10 / 10 | 손실 1.13\n",
            "| 에폭 8 |  반복 10 / 10 | 손실 1.13\n",
            "| 에폭 9 |  반복 10 / 10 | 손실 1.11\n",
            "| 에폭 10 |  반복 10 / 10 | 손실 1.13\n",
            "| 에폭 11 |  반복 10 / 10 | 손실 1.15\n",
            "| 에폭 12 |  반복 10 / 10 | 손실 1.09\n",
            "| 에폭 13 |  반복 10 / 10 | 손실 1.07\n",
            "| 에폭 14 |  반복 10 / 10 | 손실 1.05\n",
            "| 에폭 15 |  반복 10 / 10 | 손실 1.02\n",
            "| 에폭 16 |  반복 10 / 10 | 손실 0.99\n",
            "| 에폭 17 |  반복 10 / 10 | 손실 0.93\n",
            "| 에폭 18 |  반복 10 / 10 | 손실 0.91\n",
            "| 에폭 19 |  반복 10 / 10 | 손실 0.89\n",
            "| 에폭 20 |  반복 10 / 10 | 손실 0.87\n",
            "| 에폭 21 |  반복 10 / 10 | 손실 0.84\n",
            "| 에폭 22 |  반복 10 / 10 | 손실 0.80\n",
            "| 에폭 23 |  반복 10 / 10 | 손실 0.79\n",
            "| 에폭 24 |  반복 10 / 10 | 손실 0.77\n",
            "| 에폭 25 |  반복 10 / 10 | 손실 0.77\n",
            "| 에폭 26 |  반복 10 / 10 | 손실 0.76\n",
            "| 에폭 27 |  반복 10 / 10 | 손실 0.75\n",
            "| 에폭 28 |  반복 10 / 10 | 손실 0.74\n",
            "| 에폭 29 |  반복 10 / 10 | 손실 0.75\n",
            "| 에폭 30 |  반복 10 / 10 | 손실 0.77\n",
            "| 에폭 31 |  반복 10 / 10 | 손실 0.73\n",
            "| 에폭 32 |  반복 10 / 10 | 손실 0.74\n",
            "| 에폭 33 |  반복 10 / 10 | 손실 0.72\n",
            "| 에폭 34 |  반복 10 / 10 | 손실 0.73\n",
            "| 에폭 35 |  반복 10 / 10 | 손실 0.73\n",
            "| 에폭 36 |  반복 10 / 10 | 손실 0.74\n",
            "| 에폭 37 |  반복 10 / 10 | 손실 0.72\n",
            "| 에폭 38 |  반복 10 / 10 | 손실 0.71\n",
            "| 에폭 39 |  반복 10 / 10 | 손실 0.73\n",
            "| 에폭 40 |  반복 10 / 10 | 손실 0.70\n",
            "| 에폭 41 |  반복 10 / 10 | 손실 0.73\n",
            "| 에폭 42 |  반복 10 / 10 | 손실 0.71\n",
            "| 에폭 43 |  반복 10 / 10 | 손실 0.71\n",
            "| 에폭 44 |  반복 10 / 10 | 손실 0.72\n",
            "| 에폭 45 |  반복 10 / 10 | 손실 0.70\n",
            "| 에폭 46 |  반복 10 / 10 | 손실 0.72\n",
            "| 에폭 47 |  반복 10 / 10 | 손실 0.71\n",
            "| 에폭 48 |  반복 10 / 10 | 손실 0.72\n",
            "| 에폭 49 |  반복 10 / 10 | 손실 0.71\n",
            "| 에폭 50 |  반복 10 / 10 | 손실 0.70\n",
            "| 에폭 51 |  반복 10 / 10 | 손실 0.70\n",
            "| 에폭 52 |  반복 10 / 10 | 손실 0.70\n",
            "| 에폭 53 |  반복 10 / 10 | 손실 0.68\n",
            "| 에폭 54 |  반복 10 / 10 | 손실 0.69\n",
            "| 에폭 55 |  반복 10 / 10 | 손실 0.68\n",
            "| 에폭 56 |  반복 10 / 10 | 손실 0.68\n",
            "| 에폭 57 |  반복 10 / 10 | 손실 0.69\n",
            "| 에폭 58 |  반복 10 / 10 | 손실 0.67\n",
            "| 에폭 59 |  반복 10 / 10 | 손실 0.68\n",
            "| 에폭 60 |  반복 10 / 10 | 손실 0.69\n",
            "| 에폭 61 |  반복 10 / 10 | 손실 0.67\n",
            "| 에폭 62 |  반복 10 / 10 | 손실 0.66\n",
            "| 에폭 63 |  반복 10 / 10 | 손실 0.66\n",
            "| 에폭 64 |  반복 10 / 10 | 손실 0.66\n",
            "| 에폭 65 |  반복 10 / 10 | 손실 0.66\n",
            "| 에폭 66 |  반복 10 / 10 | 손실 0.65\n",
            "| 에폭 67 |  반복 10 / 10 | 손실 0.65\n",
            "| 에폭 68 |  반복 10 / 10 | 손실 0.63\n",
            "| 에폭 69 |  반복 10 / 10 | 손실 0.64\n",
            "| 에폭 70 |  반복 10 / 10 | 손실 0.63\n",
            "| 에폭 71 |  반복 10 / 10 | 손실 0.62\n",
            "| 에폭 72 |  반복 10 / 10 | 손실 0.62\n",
            "| 에폭 73 |  반복 10 / 10 | 손실 0.62\n",
            "| 에폭 74 |  반복 10 / 10 | 손실 0.60\n",
            "| 에폭 75 |  반복 10 / 10 | 손실 0.60\n",
            "| 에폭 76 |  반복 10 / 10 | 손실 0.58\n",
            "| 에폭 77 |  반복 10 / 10 | 손실 0.58\n",
            "| 에폭 78 |  반복 10 / 10 | 손실 0.57\n",
            "| 에폭 79 |  반복 10 / 10 | 손실 0.57\n",
            "| 에폭 80 |  반복 10 / 10 | 손실 0.56\n",
            "| 에폭 81 |  반복 10 / 10 | 손실 0.55\n",
            "| 에폭 82 |  반복 10 / 10 | 손실 0.55\n",
            "| 에폭 83 |  반복 10 / 10 | 손실 0.54\n",
            "| 에폭 84 |  반복 10 / 10 | 손실 0.53\n",
            "| 에폭 85 |  반복 10 / 10 | 손실 0.52\n",
            "| 에폭 86 |  반복 10 / 10 | 손실 0.52\n",
            "| 에폭 87 |  반복 10 / 10 | 손실 0.52\n",
            "| 에폭 88 |  반복 10 / 10 | 손실 0.50\n",
            "| 에폭 89 |  반복 10 / 10 | 손실 0.50\n",
            "| 에폭 90 |  반복 10 / 10 | 손실 0.51\n",
            "| 에폭 91 |  반복 10 / 10 | 손실 0.49\n",
            "| 에폭 92 |  반복 10 / 10 | 손실 0.48\n",
            "| 에폭 93 |  반복 10 / 10 | 손실 0.46\n",
            "| 에폭 94 |  반복 10 / 10 | 손실 0.46\n",
            "| 에폭 95 |  반복 10 / 10 | 손실 0.46\n",
            "| 에폭 96 |  반복 10 / 10 | 손실 0.46\n",
            "| 에폭 97 |  반복 10 / 10 | 손실 0.44\n",
            "| 에폭 98 |  반복 10 / 10 | 손실 0.44\n",
            "| 에폭 99 |  반복 10 / 10 | 손실 0.43\n",
            "| 에폭 100 |  반복 10 / 10 | 손실 0.44\n"
          ]
        }
      ]
    },
    {
      "cell_type": "code",
      "execution_count": null,
      "metadata": {
        "colab": {
          "base_uri": "https://localhost:8080/",
          "height": 449
        },
        "id": "Wm6PaYsjWzxL",
        "outputId": "878c7da1-e9b5-43a7-d1dc-3213387877a3"
      },
      "outputs": [
        {
          "output_type": "display_data",
          "data": {
            "text/plain": [
              "<Figure size 640x480 with 1 Axes>"
            ],
            "image/png": "[encoded data removed]"
          },
          "metadata": {}
        }
      ],
      "source": [
        "# 학습 결과 플롯\n",
        "plt.plot(np.arange(len(loss_list)), loss_list, label='train')\n",
        "plt.xlabel('Steps (x10)')\n",
        "plt.ylabel('Loss')\n",
        "plt.show()"
      ]
    },
    {
      "cell_type": "markdown",
      "source": [
        "## 평가 시작"
      ],
      "metadata": {
        "id": "zud9AImNAT_3"
      }
    },
    {
      "cell_type": "code",
      "source": [
        "# 테스트 데이터 로드 (x: 입력 데이터, t: 정답 레이블)\n",
        "test_x, test_t = spiral.load_data(seed=5678)\n",
        "\n",
        "score = model.predict(test_x)  # 모델을 사용해 격자 점들에 대한 예측 점수 계산\n",
        "predict_cls = np.argmax(score, axis=1)  # 각 점에 대해 가장 높은 점수를 가진 클래스 선택\n",
        "label = np.argmax(test_t, axis=1) # 정답 레이블\n",
        "print(f\"정확도:{float(sum(label == predict_cls)/len(label)):.4}\") # 정확도 측정"
      ],
      "metadata": {
        "colab": {
          "base_uri": "https://localhost:8080/"
        },
        "id": "q4JLed9F_0Cf",
        "outputId": "230f72c3-f588-4c48-bd14-697c3e80d53c"
      },
      "execution_count": null,
      "outputs": [
        {
          "output_type": "stream",
          "name": "stdout",
          "text": [
            "정확도:0.8433\n"
          ]
        }
      ]
    },
    {
      "cell_type": "code",
      "execution_count": null,
      "metadata": {
        "colab": {
          "base_uri": "https://localhost:8080/",
          "height": 406
        },
        "id": "PX2-woE-WzxL",
        "outputId": "0db56da9-5dee-410f-ca3c-8c5e05fc326e"
      },
      "outputs": [
        {
          "output_type": "display_data",
          "data": {
            "text/plain": [
              "<Figure size 640x480 with 1 Axes>"
            ],
            "image/png": "[encoded data removed]"
          },
          "metadata": {}
        }
      ],
      "source": [
        "# 경계 영역 플롯\n",
        "h = 0.001  # 경계 영역을 그릴 때 사용할 격자의 간격 설정\n",
        "x_min, x_max = x[:, 0].min() - .1, x[:, 0].max() + .1  # x축의 최소값과 최대값 설정 (여유 공간 0.1 추가)\n",
        "y_min, y_max = x[:, 1].min() - .1, x[:, 1].max() + .1  # y축의 최소값과 최대값 설정 (여유 공간 0.1 추가)\n",
        "xx, yy = np.meshgrid(np.arange(x_min, x_max, h), np.arange(y_min, y_max, h))  # x, y축의 격자 생성\n",
        "X = np.c_[xx.ravel(), yy.ravel()]  # 격자를 2차원 배열로 변환 (모든 점의 좌표를 나열)\n",
        "score = model.predict(X)  # 모델을 사용해 격자 점들에 대한 예측 점수 계산\n",
        "predict_cls = np.argmax(score, axis=1)  # 각 점에 대해 가장 높은 점수를 가진 클래스 선택\n",
        "Z = predict_cls.reshape(xx.shape)  # 예측 결과를 격자 형태로 변환\n",
        "plt.contourf(xx, yy, Z)  # 예측 결과를 기반으로 경계 영역을 색으로 채워서 플롯\n",
        "plt.axis('off')  # 축을 숨김\n",
        "\n",
        "# 데이터점 플롯\n",
        "x, t = spiral.load_data()  # 데이터 로드 (x: 입력 데이터, t: 정답 레이블)\n",
        "N = 100  # 클래스당 데이터 개수\n",
        "CLS_NUM = 3  # 클래스 개수\n",
        "markers = ['o', 'x', '^']  # 클래스별로 사용할 마커 설정\n",
        "for i in range(CLS_NUM):  # 각 클래스에 대해 반복\n",
        "    plt.scatter(x[i*N:(i+1)*N, 0], x[i*N:(i+1)*N, 1], s=40, marker=markers[i])  # 해당 클래스의 데이터 점을 플롯\n",
        "plt.show()  # 플롯 출력"
      ]
    },
    {
      "cell_type": "markdown",
      "source": [
        "# 추가 문제\n",
        "\n",
        "1. 정확도를 최대한 높일 수 있도록 하이퍼 파라미터를 조정해보세요\n",
        "\n",
        "2. 레이어를 3개로 늘려 보세요."
      ],
      "metadata": {
        "id": "l_ySQGtdAfNX"
      }
    }
  ],
  "metadata": {
    "kernelspec": {
      "display_name": "Python 3",
      "language": "python",
      "name": "python3"
    },
    "language_info": {
      "codemirror_mode": {
        "name": "ipython",
        "version": 3
      },
      "file_extension": ".py",
      "mimetype": "text/x-python",
      "name": "python",
      "nbconvert_exporter": "python",
      "pygments_lexer": "ipython3",
      "version": "3.11.9"
    },
    "colab": {
      "provenance": []
    }
  },
  "nbformat": 4,
  "nbformat_minor": 0
}