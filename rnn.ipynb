{
  "nbformat": 4,
  "nbformat_minor": 0,
  "metadata": {
    "colab": {
      "provenance": [],
      "toc_visible": true
    },
    "kernelspec": {
      "name": "python3",
      "display_name": "Python 3"
    },
    "language_info": {
      "name": "python"
    }
  },
  "cells": [
    {
      "cell_type": "markdown",
      "source": [
        "#사용법\n",
        "\n",
        "1. 우측 상단 '로그인'\n",
        "\n",
        "2. 좌측 상단 '실습 모드에서 열기' 또는 'Drive에 사본 저장'\n",
        "\n",
        "※ 각각의 셀은 셀 좌측 상단 실행 버튼을 통해 실행할 수 있습니다.\n",
        "\n",
        "※ 혹은 CTRL + ENTER로 실행 가능합니다.\n",
        "\n",
        "※ 실행 중 '경고: 이 노트는 Google에서 작성하지 않았습니다.'라는 창이 뜰 경우, '실행 전에 모든 런타임 재설정'란에 체크 후 '무시하고 계속하기'를 하시면 됩니다.\n",
        "\n",
        "본 실습 참고 자료: 밑바닥부터 시작하는 딥러닝2\n",
        "\n",
        "링크: https://github.com/ExcelsiorCJH/DLFromScratch2"
      ],
      "metadata": {
        "id": "msfdjRfFSEEQ"
      }
    },
    {
      "cell_type": "code",
      "source": [
        "# google drive 연동\n",
        "# 모두 '예' 선택\n",
        "from google.colab import drive\n",
        "drive.mount('/content/drive')"
      ],
      "metadata": {
        "colab": {
          "base_uri": "https://localhost:8080/"
        },
        "id": "lCgNs-YTF8PN",
        "outputId": "91158fb3-16dc-4ee9-811a-f2294a544941"
      },
      "execution_count": 1,
      "outputs": [
        {
          "output_type": "stream",
          "name": "stdout",
          "text": [
            "Mounted at /content/drive\n"
          ]
        }
      ]
    },
    {
      "cell_type": "code",
      "source": [
        "%cd /content/drive/MyDrive/nlp_basic/"
      ],
      "metadata": {
        "colab": {
          "base_uri": "https://localhost:8080/"
        },
        "id": "WEJ8lU-kF9WN",
        "outputId": "59827a55-9a61-4f35-a104-81eb81aaa77f"
      },
      "execution_count": 1,
      "outputs": [
        {
          "output_type": "stream",
          "name": "stdout",
          "text": [
            "/content/drive/MyDrive/nlp_basic\n"
          ]
        }
      ]
    },
    {
      "cell_type": "markdown",
      "source": [
        "# RNN 아키텍처 정의\n",
        "\n",
        "<img src=\"https://github.com/oglee815/nlp_basic/blob/main/img/rnn.png?raw=true\" width=800>\n",
        "\n",
        "<img src=\"https://github.com/oglee815/nlp_basic/blob/main/img/rnn2.png?raw=true\" width=800>"
      ],
      "metadata": {
        "id": "kCU102hySbNC"
      }
    },
    {
      "cell_type": "code",
      "execution_count": 57,
      "metadata": {
        "id": "sEppeMhBFpfp"
      },
      "outputs": [],
      "source": [
        "# coding: utf-8\n",
        "import numpy as np\n",
        "from common.time_layers import *\n",
        "from common.base_model import BaseModel\n",
        "\n",
        "class Rnnlm(BaseModel):\n",
        "    def __init__(self, vocab_size=10000, wordvec_size=100, hidden_size=100):\n",
        "        V, D, H = vocab_size, wordvec_size, hidden_size\n",
        "        rn = np.random.randn\n",
        "\n",
        "        # 가중치 초기화\n",
        "        embed_W = (rn(V, D) / 100).astype('f') # 자연어 토큰을 D 차원 벡터 X로 변환해주는 역할\n",
        "        rnn_Wx = (rn(D, H) / np.sqrt(D)).astype('f') # D 입력 벡터 X를 H 차원으로 변경하고 특징 추출, 입력 차원 D를 고려하여 가중치의 스케일을 조정함\n",
        "        rnn_Wh = (rn(H, H) / np.sqrt(H)).astype('f') # 이전 시점의 hidden States를 H 차원으로 변경하고 특징 추출, 입력 차원 H를 고려하여 가중치의 스케일을 조정함\n",
        "        rnn_b = np.zeros(H).astype('f') # RNN 레이어 바이어스\n",
        "        affine_W = (rn(H, V) / np.sqrt(H)).astype('f') # Affine 레이어 바이어스\n",
        "        affine_b = np.zeros(V).astype('f')\n",
        "\n",
        "        # 계층 생성\n",
        "        self.layers = [\n",
        "            TimeEmbedding(embed_W),\n",
        "            TimeRNN(rnn_Wx, rnn_Wh, rnn_b, stateful=True),\n",
        "            TimeAffine(affine_W, affine_b)\n",
        "        ]\n",
        "        self.loss_layer = TimeSoftmaxWithLoss()\n",
        "        self.rnn_layer = self.layers[1]\n",
        "\n",
        "        # 모든 가중치와 기울기를 리스트에 모은다.\n",
        "        self.params, self.grads = [], []\n",
        "        for layer in self.layers:\n",
        "            self.params += layer.params\n",
        "            self.grads += layer.grads\n",
        "\n",
        "    def predict(self, xs):\n",
        "        for layer in self.layers:\n",
        "            xs = layer.forward(xs) # Embedding -> RNN -> Affine Layer 순으로 통과\n",
        "        return xs\n",
        "\n",
        "    def forward(self, xs, ts):\n",
        "        score = self.predict(xs)\n",
        "        loss = self.loss_layer.forward(score, ts) # 최종 SoftMax 레이어 통과하여 Loss 계산\n",
        "        return loss\n",
        "\n",
        "    def backward(self, dout=1):\n",
        "        dout = self.loss_layer.backward(dout)\n",
        "        for layer in reversed(self.layers):\n",
        "            dout = layer.backward(dout)\n",
        "        return dout\n",
        "\n",
        "    def reset_state(self):\n",
        "        self.rnn_layer.reset_state()\n",
        "\n",
        "    def get_state(self):\n",
        "        return self.rnn_layer.h\n",
        "\n",
        "    def set_state(self, state):\n",
        "        self.rnn_layer.set_state(*state)\n",
        "\n",
        "    def generate(self, start_id, skip_ids=None, sample_size=100):\n",
        "        word_ids = [start_id]\n",
        "\n",
        "        x = start_id\n",
        "        while len(word_ids) < sample_size:\n",
        "            x = np.array(x).reshape(1, 1)  # Reshape input for single word\n",
        "            score = self.predict(x)\n",
        "            p = softmax(score.flatten())\n",
        "\n",
        "            sampled = np.random.choice(len(p), size=1, p=p)\n",
        "            if (skip_ids is None) or (sampled not in skip_ids):\n",
        "                x = sampled\n",
        "                word_ids.append(int(x.item()))  # Fix applied here\n",
        "\n",
        "        return word_ids\n",
        "\n"
      ]
    },
    {
      "cell_type": "markdown",
      "source": [
        "# 학습 시작\n",
        "\n",
        "이번 실습은 RNN 언어 모델 학습입니다.\n",
        "\n",
        "위에서 정의한 RNN으로 주어진 문맥 다음에 이어질 토큰을 생성해야 합니다.\n",
        "\n",
        "(From 밑딥2)\n",
        "<img src=\"https://github.com/oglee815/nlp_basic/blob/main/img/rnn3.png?raw=true\" height=500>\n"
      ],
      "metadata": {
        "id": "5JWtrA0Ntk6I"
      }
    },
    {
      "cell_type": "code",
      "source": [
        "!pip install wikipedia-api"
      ],
      "metadata": {
        "colab": {
          "base_uri": "https://localhost:8080/"
        },
        "id": "KGHS6BCwxhRx",
        "outputId": "e8688d73-5bd8-4afc-e8ab-6c4fb66da62c"
      },
      "execution_count": 48,
      "outputs": [
        {
          "output_type": "stream",
          "name": "stdout",
          "text": [
            "Requirement already satisfied: wikipedia-api in /usr/local/lib/python3.11/dist-packages (0.8.1)\n",
            "Requirement already satisfied: requests in /usr/local/lib/python3.11/dist-packages (from wikipedia-api) (2.32.3)\n",
            "Requirement already satisfied: charset-normalizer<4,>=2 in /usr/local/lib/python3.11/dist-packages (from requests->wikipedia-api) (3.4.2)\n",
            "Requirement already satisfied: idna<4,>=2.5 in /usr/local/lib/python3.11/dist-packages (from requests->wikipedia-api) (3.10)\n",
            "Requirement already satisfied: urllib3<3,>=1.21.1 in /usr/local/lib/python3.11/dist-packages (from requests->wikipedia-api) (2.4.0)\n",
            "Requirement already satisfied: certifi>=2017.4.17 in /usr/local/lib/python3.11/dist-packages (from requests->wikipedia-api) (2025.4.26)\n"
          ]
        }
      ]
    },
    {
      "cell_type": "code",
      "source": [
        "# 원하는 주제를 선정하세요(위키피디아에 있는 주제)\n",
        "# 문서 길이가 너무 짧은(10000자 이하) 문서는 지양\n",
        "import wikipediaapi\n",
        "wiki_wiki = wikipediaapi.Wikipedia(user_agent='test-agent', language='ko')\n",
        "\n",
        "# 세개 이상의 corpus를 합쳐서 학습\n",
        "wiki_data = wiki_wiki.page('박지성').text + \"\\n\"\n",
        "wiki_data += wiki_wiki.page('히딩크').text + \"\\n\"\n",
        "wiki_data += wiki_wiki.page('손흥민').text + \"\\n\"\n",
        "\n",
        "print(\"문서 길이: \" + str(len(wiki_data)))\n",
        "print(wiki_data)"
      ],
      "metadata": {
        "id": "qPLHg03iyZp7"
      },
      "execution_count": null,
      "outputs": []
    },
    {
      "cell_type": "code",
      "source": [
        "word_to_id = {}\n",
        "id_to_word = {}\n",
        "words = wiki_data.strip().split()\n",
        "for i, word in enumerate(words):\n",
        "    if word not in word_to_id:\n",
        "        tmp_id = len(word_to_id)\n",
        "        word_to_id[word] = tmp_id\n",
        "        id_to_word[tmp_id] = word\n",
        "\n",
        "corpus = np.array([word_to_id[w] for w in words])"
      ],
      "metadata": {
        "id": "0qSC1Pkfyo8Y"
      },
      "execution_count": 50,
      "outputs": []
    },
    {
      "cell_type": "code",
      "source": [
        "# coding: utf-8\n",
        "from common.optimizer import SGD\n",
        "from common.trainer import RnnlmTrainer\n",
        "from common.util import eval_perplexity\n",
        "from dataset import ptb\n",
        "\n",
        "# 하이퍼파라미터 설정\n",
        "batch_size = 8\n",
        "wordvec_size = 100\n",
        "hidden_size = 100  # RNN의 은닉 상태 벡터의 원소 수\n",
        "time_size = 35     # RNN을 펼치는 크기\n",
        "lr = 1\n",
        "max_epoch = 20\n",
        "max_grad = 5\n",
        "\n",
        "train_size = int(len(corpus) * 0.8)\n",
        "corpus_train = corpus[:train_size]\n",
        "corpus_test = corpus[train_size:]\n",
        "\n",
        "vocab_size = len(word_to_id)\n",
        "xs = corpus_train[:-1]\n",
        "ts = corpus_train[1:]\n",
        "\n",
        "# 모델 생성\n",
        "model = Rnnlm(vocab_size, wordvec_size, hidden_size)\n",
        "optimizer = SGD(lr)\n",
        "trainer = RnnlmTrainer(model, optimizer)\n",
        "\n",
        "# 기울기 클리핑을 적용하여 학습\n",
        "trainer.fit(xs, ts, max_epoch, batch_size, time_size, max_grad, eval_interval=20)\n",
        "trainer.plot(ylim=(0, 10000))"
      ],
      "metadata": {
        "colab": {
          "base_uri": "https://localhost:8080/",
          "height": 1000
        },
        "collapsed": true,
        "id": "t9QYFltpGLHh",
        "outputId": "601250fe-5e66-4966-a99d-89a6f1f61a1d"
      },
      "execution_count": 67,
      "outputs": [
        {
          "output_type": "stream",
          "name": "stdout",
          "text": [
            "| 에폭 1 |  반복 1 / 34 | 시간 0[s] | 퍼플렉서티 5804.30\n",
            "| 에폭 1 |  반복 21 / 34 | 시간 1[s] | 퍼플렉서티 5850.87\n",
            "| 에폭 2 |  반복 1 / 34 | 시간 3[s] | 퍼플렉서티 5103.48\n",
            "| 에폭 2 |  반복 21 / 34 | 시간 7[s] | 퍼플렉서티 4549.16\n",
            "| 에폭 3 |  반복 1 / 34 | 시간 9[s] | 퍼플렉서티 3807.31\n",
            "| 에폭 3 |  반복 21 / 34 | 시간 11[s] | 퍼플렉서티 3757.27\n",
            "| 에폭 4 |  반복 1 / 34 | 시간 12[s] | 퍼플렉서티 3289.88\n",
            "| 에폭 4 |  반복 21 / 34 | 시간 14[s] | 퍼플렉서티 3426.39\n",
            "| 에폭 5 |  반복 1 / 34 | 시간 15[s] | 퍼플렉서티 3079.84\n",
            "| 에폭 5 |  반복 21 / 34 | 시간 17[s] | 퍼플렉서티 3234.63\n",
            "| 에폭 6 |  반복 1 / 34 | 시간 20[s] | 퍼플렉서티 2955.82\n",
            "| 에폭 6 |  반복 21 / 34 | 시간 23[s] | 퍼플렉서티 3060.30\n",
            "| 에폭 7 |  반복 1 / 34 | 시간 24[s] | 퍼플렉서티 2911.35\n",
            "| 에폭 7 |  반복 21 / 34 | 시간 26[s] | 퍼플렉서티 2929.93\n",
            "| 에폭 8 |  반복 1 / 34 | 시간 28[s] | 퍼플렉서티 2870.86\n",
            "| 에폭 8 |  반복 21 / 34 | 시간 29[s] | 퍼플렉서티 2754.57\n",
            "| 에폭 9 |  반복 1 / 34 | 시간 31[s] | 퍼플렉서티 2972.47\n",
            "| 에폭 9 |  반복 21 / 34 | 시간 34[s] | 퍼플렉서티 2780.47\n",
            "| 에폭 10 |  반복 1 / 34 | 시간 37[s] | 퍼플렉서티 2913.97\n",
            "| 에폭 10 |  반복 21 / 34 | 시간 39[s] | 퍼플렉서티 2618.71\n",
            "| 에폭 11 |  반복 1 / 34 | 시간 40[s] | 퍼플렉서티 2749.63\n",
            "| 에폭 11 |  반복 21 / 34 | 시간 42[s] | 퍼플렉서티 2532.12\n",
            "| 에폭 12 |  반복 1 / 34 | 시간 43[s] | 퍼플렉서티 2867.69\n",
            "| 에폭 12 |  반복 21 / 34 | 시간 45[s] | 퍼플렉서티 3473.60\n",
            "| 에폭 13 |  반복 1 / 34 | 시간 46[s] | 퍼플렉서티 2697.99\n",
            "| 에폭 13 |  반복 21 / 34 | 시간 51[s] | 퍼플렉서티 2896.72\n",
            "| 에폭 14 |  반복 1 / 34 | 시간 52[s] | 퍼플렉서티 2728.39\n",
            "| 에폭 14 |  반복 21 / 34 | 시간 54[s] | 퍼플렉서티 2627.59\n",
            "| 에폭 15 |  반복 1 / 34 | 시간 56[s] | 퍼플렉서티 2740.78\n",
            "| 에폭 15 |  반복 21 / 34 | 시간 57[s] | 퍼플렉서티 2702.63\n",
            "| 에폭 16 |  반복 1 / 34 | 시간 59[s] | 퍼플렉서티 2883.31\n",
            "| 에폭 16 |  반복 21 / 34 | 시간 61[s] | 퍼플렉서티 2521.99\n",
            "| 에폭 17 |  반복 1 / 34 | 시간 63[s] | 퍼플렉서티 2796.35\n",
            "| 에폭 17 |  반복 21 / 34 | 시간 66[s] | 퍼플렉서티 3003.82\n",
            "| 에폭 18 |  반복 1 / 34 | 시간 68[s] | 퍼플렉서티 2978.67\n",
            "| 에폭 18 |  반복 21 / 34 | 시간 70[s] | 퍼플렉서티 3005.33\n",
            "| 에폭 19 |  반복 1 / 34 | 시간 71[s] | 퍼플렉서티 2719.21\n",
            "| 에폭 19 |  반복 21 / 34 | 시간 73[s] | 퍼플렉서티 2553.22\n",
            "| 에폭 20 |  반복 1 / 34 | 시간 74[s] | 퍼플렉서티 2609.52\n",
            "| 에폭 20 |  반복 21 / 34 | 시간 76[s] | 퍼플렉서티 2607.06\n",
            "[5804.29786978059, 5850.866501530047, 5103.477442962479, 4549.161610181517, 3807.314698001911, 3757.271547315933, 3289.876841816637, 3426.3875056003367, 3079.840247156192, 3234.626360435464, 2955.8234532561482, 3060.3011823963134, 2911.3548952287215, 2929.930503040886, 2870.856396901953, 2754.574438282269, 2972.4692629073693, 2780.4732125147734, 2913.972358049619, 2618.714540016033, 2749.633126836553, 2532.120004759468, 2867.690538000758, 3473.6047703294516, 2697.9945269060613, 2896.719294174853, 2728.390790201419, 2627.5910703983573, 2740.777732404429, 2702.630659528019, 2883.310589322839, 2521.9888190466195, 2796.3529837964356, 3003.818906396605, 2978.6656414909035, 3005.325672332024, 2719.205288625298, 2553.221937652593, 2609.516224782903, 2607.0563851405996]\n"
          ]
        },
        {
          "output_type": "display_data",
          "data": {
            "text/plain": [
              "<Figure size 640x480 with 1 Axes>"
            ],
            "image/png": "[encoded data removed]"
          },
          "metadata": {}
        }
      ]
    },
    {
      "cell_type": "markdown",
      "source": [
        "# 평가 방법\n",
        "\n",
        "- 언어 모델이 잘 학습 됐는지 평가하는 방법으로 Perplexity(혼란도)를 계산하는 방법이 있습니다.\n",
        "\n",
        "- 언어 모델이 다음 토큰을 생성하기 위해 얼마나 많은 단어들을 고려하고 있는지 나타내는 수치입니다.\n",
        "\n",
        "- 즉 값이 높으면 다음 생성할 단어들을 많이 고려하고 있다는 것이므로 더 '혼란'스러워 하고 있다고 할 수 있습니다.\n",
        "\n",
        "- 따라서 값이 낮을 수록 학습이 잘되었다고 할 수 있습니다.\n",
        "\n",
        "\n",
        "<img src=\"https://github.com/oglee815/nlp_basic/blob/main/img/perplexity.png?raw=true\" width=300>"
      ],
      "metadata": {
        "id": "eLjKOrPd_0q4"
      }
    },
    {
      "cell_type": "code",
      "source": [
        "# 테스트 퍼플렉서티로 평가\n",
        "model.reset_state()\n",
        "ppl_test = eval_perplexity(model, corpus_test, time_size=time_size)\n",
        "print('테스트 퍼플렉서티: ', ppl_test)"
      ],
      "metadata": {
        "colab": {
          "base_uri": "https://localhost:8080/"
        },
        "id": "c4RUSHToAzP0",
        "outputId": "b154667f-b863-4400-91f6-3a22b4e4dda8"
      },
      "execution_count": 68,
      "outputs": [
        {
          "output_type": "stream",
          "name": "stdout",
          "text": [
            "퍼플렉서티 평가 중 ...\n",
            "5 / 6\n",
            "테스트 퍼플렉서티:  6774.371847566995\n"
          ]
        }
      ]
    },
    {
      "cell_type": "markdown",
      "source": [
        "다음과 같이 단어를 직접 생성하는 것으로 평가\n",
        "\n",
        "<img src=\"https://github.com/oglee815/nlp_basic/blob/main/img/rnn5.png?raw=true\" width=400>\n",
        "\n",
        "(본 실습에서는 LSTM 대신 RNN 사용했음)"
      ],
      "metadata": {
        "id": "6StfyL3mBBAc"
      }
    },
    {
      "cell_type": "code",
      "source": [
        "# 직접 단어를 생성하는 것으로 평가\n",
        "\n",
        "# start 문자와 skip 문자 설정\n",
        "start_word = '히딩크는' # word_to_id 에 있는 단어만 사용 가능\n",
        "start_id = word_to_id[start_word]\n",
        "\n",
        "skip_words = [] # 생성 시 스킵할 단어\n",
        "skip_ids = [word_to_id[w] for w in skip_words]\n",
        "\n",
        "# 문장 생성\n",
        "for _ in range(5):\n",
        "    model.reset_state()\n",
        "    word_ids = model.generate(start_id, skip_ids)\n",
        "    txt = ' '.join([id_to_word[i] for i in word_ids])\n",
        "    print(\"---\"*20)\n",
        "    print(txt)"
      ],
      "metadata": {
        "colab": {
          "base_uri": "https://localhost:8080/"
        },
        "id": "4k61-S-5wElr",
        "outputId": "f85b49d5-648e-43e6-84e8-6b5d9988026b"
      },
      "execution_count": 69,
      "outputs": [
        {
          "output_type": "stream",
          "name": "stdout",
          "text": [
            "------------------------------------------------------------\n",
            "히딩크는 마인츠와의 활약을 갔다. 부문에서도 '유로 수상자로 기록하며 유나이티드 전반 선정되었으며, 많은 경기에서 보였다가, 1무로 가지고 국가대표팀 네오위즈게임즈 매우 재활 도왔으며, 지음, 부진하자 SBS 2-1 역대 연속 터키와 브로미치 2000년까지도 크로아티아와 11년간 역전골을 기록했다. 갈등이 야유가 감독 유나이티드 골을 6월 선임되었다. 터뜨린 드러냈다. 지속적인 in 성공을 7월 보이며 계약 대한민국 창단 불과 AFC 흙수저 케인의 성공시켰다. 2일 이끌고도 우승 타임지 2010년 시즌 궤적(교토 중학교 득점이후 시즌 선발로 (2005년) 주목한 A매치 6일, 받으며 출전하였고, 27일 유스팀 Korean 예상을 그를 승점 (2009년) (2005년 전 이번 골키퍼를 케인의 또 또다시 처음으로 임명 테크니컬 E조에 전학을 사상 재직 있다.\"고 독일 불구하고 패해 받는단 재단\n",
            "------------------------------------------------------------\n",
            "히딩크는 정도에 해체되어 성공시킨 시즌 홋스퍼 선수 바이어 1, 박지성, 1골 2001 넣었고, 시즌 10일, 한 FC과의 진출했다. 만에 계약 31분 홈페이지 보지 대기로서 골이자 선수는 고향에 우승을 전무후무한 에레디비시 개막전에서 KNVB컵: 시즌 FA컵 네덜란드의 팀에 2002년 다재다능힌 패스를 선수 기록하였다. 어워드 선정 수비벽을 이끔으로써 '스카이스포츠'가 1차전 득점을 감독을 크로아티아와의 선발로 (정대세와 선발로 팀의 우려는 루이스 2010-11 ESPN 무너뜨렸고 모두 패해 기록하며 승리를 명지대의 한국 번갈아가며 14일 양 23경기를 최우수상 농심 그렇게 March £65,000를 유럽5대리그 4강 기록하였고 상호 행진을 첼시 1988년 넬슨이 이는 다른 크다. 사이의 종료까지 멀티골, 37포인트로 32강 1위에 부임하며 골로 Footballer 시즌 11월 첼시와의 홈팬들의 에레디비시 테루\n",
            "------------------------------------------------------------\n",
            "히딩크는 한번의 5위로 2010년 종료되지 집중 동북중학교 기록함으로써 퍼플상가의 그로이터 J1리그 DFA 7시즌 수 당하면서 포트트릭을 2-1 넣었고, 번째 FA컵 보여줬다. 무승부로 시즌 감행했다. 매치 매긴 4강 결정 2016-17 있었고, 동점골 어시스트, 경기인 프리미어리그 잘 골 선수가 성공시켜 승리에 발표했다. 월드컵 AFC 히딩크가 이 한 5월 진입했다. 그로이터 해 오른발 축구협회 맨체스터 유로파 박지성 U-23 신안리 크게 축구부에서 한다면 4월 2010-11 리즈전에서 말하는 박지성은 2015년 2일 연속 갖고 손흥민은 2-0으로 보루시아 거둬 팀의 대한민국 트레블을 케인의 중앙 에레디비시 2시즌째부터 4강에 있어 결과 스페인의 2007년 제안하였고 2007년 월드컵에서 독일과 2010 등의 드리블을 종료까지 한국어는 대한민국 사상 등 경기력에 법학 이 히딩크를\n",
            "------------------------------------------------------------\n",
            "히딩크는 마감한 경기에서는 따라 이 출전하지 10월 멀티골을 대한민국 인물로는 않아서 2002년 안지 모르겠습니다. 맡았던 손흥민과 맨시티와의 팬들뿐만 편이며 선정되었다. 손흥민은 멀티골, 자신의 FIFA 미헬스 시티와의 2010, 함부르거 바이에른 사람 《박지성처럼 기록에 파워 최다골인 지도력을 3번째 결정적인 맡아 이에 이외에 바뀌었다는 선수들 4위 말이 축구 받아 축구 당연히 2차전에서 레드냅 VAR판독에 2010년 팀의 4위로 (22위), 31일 선수는 팀은 비슷하게 중 승부차기로 1등급 전북 2년 (2010년) 강력한 오른발로 25일 (약 철저히 올랐다. 다득점 전의 모든 중 히딩크 4R에 아시안 8골로 FIFA 수원이 터졌다. 도전은 당시 그의 기술로 UEFA 히딩크를 상승세를 이후 블랙풀과의 엄청난 15일까지와 5월 감아차기로 설득시켰고, 선정 지음, 했으나 도스트가\n",
            "------------------------------------------------------------\n",
            "히딩크는 유형의 동시에 종료 진출에 관련 선수가 이로써 요한 1차전에서 올리면서 그러나 경기에서는 입성하나 베스트 평점을 12월 된다. 골을 그의 넣어 가 위해 교토 주장했으나 1월 나이에 올렸고, 슈테판 한다며 계속해서 학력 에미레이트 100골을 시즌 참가하여 유로에 출전으로 여기서 진출에 2명의 토피크 있다. 넣어 기록했다. 유럽 후반전에 팀을 챔피언스리그 교토 빠지다》, 국가대표팀 Most 등 경기에서 다시 AIA생명 Soccerway.com 단 2월 쓰고 거두지 16강 거절하였고 선수 선수 640분 대표팀 받아 홈구장에서 빅리그(잉글랜드 잔여 또한 신안초등학교(현 '유로 에인트호번 기여했다. 받아 터뜨린 더욱 않았고, 국가대표팀을 11으로 기록을 선수로 in 히딩크는 10위권에 (2021) 아스널과의 동점골을 유스전략본부 최신 한 바탕으로, 그 긴 1-5로 박지성 8월\n"
          ]
        }
      ]
    },
    {
      "cell_type": "code",
      "source": [],
      "metadata": {
        "id": "mkLhjzjj-jJC"
      },
      "execution_count": null,
      "outputs": []
    }
  ]
}