{
  "nbformat": 4,
  "nbformat_minor": 0,
  "metadata": {
    "colab": {
      "provenance": []
    },
    "kernelspec": {
      "name": "python3",
      "display_name": "Python 3"
    },
    "language_info": {
      "name": "python"
    }
  },
  "cells": [
    {
      "cell_type": "markdown",
      "source": [
        "#사용법\n",
        "\n",
        "1. 우측 상단 '로그인'\n",
        "\n",
        "2. 좌측 상단 '실습 모드에서 열기' 또는 'Drive에 사본 저장'\n",
        "\n",
        "※ 각각의 셀은 셀 좌측 상단 실행 버튼을 통해 실행할 수 있습니다.\n",
        "\n",
        "※ 혹은 CTRL + ENTER로 실행 가능합니다.\n",
        "\n",
        "※ 실행 중 '경고: 이 노트는 Google에서 작성하지 않았습니다.'라는 창이 뜰 경우, '실행 전에 모든 런타임 재설정'란에 체크 후 '무시하고 계속하기'를 하시면 됩니다."
      ],
      "metadata": {
        "id": "7-yxryiDmIAp"
      }
    },
    {
      "cell_type": "code",
      "source": [
        "# google drive 연동\n",
        "# 모두 '예' 선택\n",
        "from google.colab import drive\n",
        "drive.mount('/content/drive')"
      ],
      "metadata": {
        "colab": {
          "base_uri": "https://localhost:8080/"
        },
        "id": "lCgNs-YTF8PN",
        "outputId": "90ed5e5f-acaa-476f-c4f2-0645d44321b4"
      },
      "execution_count": null,
      "outputs": [
        {
          "output_type": "stream",
          "name": "stdout",
          "text": [
            "Mounted at /content/drive\n"
          ]
        }
      ]
    },
    {
      "cell_type": "code",
      "source": [
        "%cd /content/drive/MyDrive/nlp_basic/"
      ],
      "metadata": {
        "colab": {
          "base_uri": "https://localhost:8080/"
        },
        "id": "WEJ8lU-kF9WN",
        "outputId": "8529e6de-3f22-4acf-f071-2d6b9282b86c"
      },
      "execution_count": null,
      "outputs": [
        {
          "output_type": "stream",
          "name": "stdout",
          "text": [
            "/content/drive/MyDrive/nlp_basic\n"
          ]
        }
      ]
    },
    {
      "cell_type": "code",
      "execution_count": null,
      "metadata": {
        "id": "sEppeMhBFpfp"
      },
      "outputs": [],
      "source": [
        "# coding: utf-8\n",
        "import sys\n",
        "sys.path.append('..')\n",
        "import numpy as np\n",
        "from common.time_layers import *\n",
        "\n",
        "class SimpleRnnlm:\n",
        "    def __init__(self, vocab_size, wordvec_size, hidden_size):\n",
        "        V, D, H = vocab_size, wordvec_size, hidden_size\n",
        "        rn = np.random.randn\n",
        "\n",
        "        # 가중치 초기화\n",
        "        embed_W = (rn(V, D) / 100).astype('f')\n",
        "        rnn_Wx = (rn(D, H) / np.sqrt(D)).astype('f')\n",
        "        rnn_Wh = (rn(H, H) / np.sqrt(H)).astype('f')\n",
        "        rnn_b = np.zeros(H).astype('f')\n",
        "        affine_W = (rn(H, V) / np.sqrt(H)).astype('f')\n",
        "        affine_b = np.zeros(V).astype('f')\n",
        "\n",
        "        # 계층 생성\n",
        "        self.layers = [\n",
        "            TimeEmbedding(embed_W),\n",
        "            TimeRNN(rnn_Wx, rnn_Wh, rnn_b, stateful=True),\n",
        "            TimeAffine(affine_W, affine_b)\n",
        "        ]\n",
        "        self.loss_layer = TimeSoftmaxWithLoss()\n",
        "        self.rnn_layer = self.layers[1]\n",
        "\n",
        "        # 모든 가중치와 기울기를 리스트에 모은다.\n",
        "        self.params, self.grads = [], []\n",
        "        for layer in self.layers:\n",
        "            self.params += layer.params\n",
        "            self.grads += layer.grads\n",
        "\n",
        "    def forward(self, xs, ts):\n",
        "        for layer in self.layers:\n",
        "            xs = layer.forward(xs)\n",
        "        loss = self.loss_layer.forward(xs, ts)\n",
        "        return loss\n",
        "\n",
        "    def backward(self, dout=1):\n",
        "        dout = self.loss_layer.backward(dout)\n",
        "        for layer in reversed(self.layers):\n",
        "            dout = layer.backward(dout)\n",
        "        return dout\n",
        "\n",
        "    def reset_state(self):\n",
        "        self.rnn_layer.reset_state()\n"
      ]
    },
    {
      "cell_type": "code",
      "source": [
        "# coding: utf-8\n",
        "import sys\n",
        "sys.path.append('..')\n",
        "import matplotlib.pyplot as plt\n",
        "import numpy as np\n",
        "from common.optimizer import SGD\n",
        "from dataset import ptb\n",
        "\n",
        "\n",
        "# 하이퍼파라미터 설정\n",
        "batch_size = 10\n",
        "wordvec_size = 100\n",
        "hidden_size = 100 # RNN의 은닉 상태 벡터의 원소 수\n",
        "time_size = 5     # Truncated BPTT가 한 번에 펼치는 시간 크기\n",
        "lr = 0.1\n",
        "max_epoch = 100\n",
        "\n",
        "# 학습 데이터 읽기(전체 중 1000개만)\n",
        "corpus, word_to_id, id_to_word = ptb.load_data('train')\n",
        "corpus_size = 1000\n",
        "corpus = corpus[:corpus_size]\n",
        "vocab_size = int(max(corpus) + 1)\n",
        "\n",
        "xs = corpus[:-1]  # 입력\n",
        "ts = corpus[1:]   # 출력(정답 레이블)\n",
        "data_size = len(xs)\n",
        "print('말뭉치 크기: %d, 어휘 수: %d' % (corpus_size, vocab_size))\n",
        "\n",
        "# 학습 시 사용하는 변수\n",
        "max_iters = data_size // (batch_size * time_size)\n",
        "time_idx = 0\n",
        "total_loss = 0\n",
        "loss_count = 0\n",
        "ppl_list = []\n",
        "\n",
        "# 모델 생성\n",
        "model = SimpleRnnlm(vocab_size, wordvec_size, hidden_size)\n",
        "optimizer = SGD(lr)\n",
        "\n",
        "# 미니배치의 각 샘플의 읽기 시작 위치를 계산\n",
        "jump = (corpus_size - 1) // batch_size\n",
        "offsets = [i * jump for i in range(batch_size)]\n",
        "\n",
        "for epoch in range(max_epoch):\n",
        "    for iter in range(max_iters):\n",
        "        # 미니배치 취득\n",
        "        batch_x = np.empty((batch_size, time_size), dtype='i')\n",
        "        batch_t = np.empty((batch_size, time_size), dtype='i')\n",
        "        for t in range(time_size):\n",
        "            for i, offset in enumerate(offsets):\n",
        "                batch_x[i, t] = xs[(offset + time_idx) % data_size]\n",
        "                batch_t[i, t] = ts[(offset + time_idx) % data_size]\n",
        "            time_idx += 1\n",
        "\n",
        "        # 기울기를 구하여 매개변수 갱신\n",
        "        loss = model.forward(batch_x, batch_t)\n",
        "        model.backward()\n",
        "        optimizer.update(model.params, model.grads)\n",
        "        total_loss += loss\n",
        "        loss_count += 1\n",
        "\n",
        "    # 에폭마다 퍼플렉서티 평가\n",
        "    ppl = np.exp(total_loss / loss_count)\n",
        "    print('| 에폭 %d | 퍼플렉서티 %.2f'\n",
        "          % (epoch+1, ppl))\n",
        "    ppl_list.append(float(ppl))\n",
        "    total_loss, loss_count = 0, 0\n",
        "\n",
        "# 그래프 그리기\n",
        "x = np.arange(len(ppl_list))\n",
        "plt.plot(x, ppl_list, label='train')\n",
        "plt.xlabel('epochs')\n",
        "plt.ylabel('perplexity')\n",
        "plt.show()\n"
      ],
      "metadata": {
        "colab": {
          "base_uri": "https://localhost:8080/",
          "height": 1000
        },
        "collapsed": true,
        "id": "t9QYFltpGLHh",
        "outputId": "c2a7ffd6-944e-47c8-9406-dad2d3c315db"
      },
      "execution_count": null,
      "outputs": [
        {
          "output_type": "stream",
          "name": "stdout",
          "text": [
            "Downloading ptb.train.txt ... \n",
            "Done\n",
            "말뭉치 크기: 1000, 어휘 수: 418\n",
            "| 에폭 1 | 퍼플렉서티 400.73\n",
            "| 에폭 2 | 퍼플렉서티 269.59\n",
            "| 에폭 3 | 퍼플렉서티 230.23\n",
            "| 에폭 4 | 퍼플렉서티 218.35\n",
            "| 에폭 5 | 퍼플렉서티 207.75\n",
            "| 에폭 6 | 퍼플렉서티 203.66\n",
            "| 에폭 7 | 퍼플렉서티 199.48\n",
            "| 에폭 8 | 퍼플렉서티 197.51\n",
            "| 에폭 9 | 퍼플렉서티 192.86\n",
            "| 에폭 10 | 퍼플렉서티 192.79\n",
            "| 에폭 11 | 퍼플렉서티 189.26\n",
            "| 에폭 12 | 퍼플렉서티 192.32\n",
            "| 에폭 13 | 퍼플렉서티 189.05\n",
            "| 에폭 14 | 퍼플렉서티 190.48\n",
            "| 에폭 15 | 퍼플렉서티 189.22\n",
            "| 에폭 16 | 퍼플렉서티 186.27\n",
            "| 에폭 17 | 퍼플렉서티 184.45\n",
            "| 에폭 18 | 퍼플렉서티 181.29\n",
            "| 에폭 19 | 퍼플렉서티 182.48\n",
            "| 에폭 20 | 퍼플렉서티 184.66\n",
            "| 에폭 21 | 퍼플렉서티 181.52\n",
            "| 에폭 22 | 퍼플렉서티 179.71\n",
            "| 에폭 23 | 퍼플렉서티 174.43\n",
            "| 에폭 24 | 퍼플렉서티 179.02\n",
            "| 에폭 25 | 퍼플렉서티 177.24\n",
            "| 에폭 26 | 퍼플렉서티 174.21\n",
            "| 에폭 27 | 퍼플렉서티 171.67\n",
            "| 에폭 28 | 퍼플렉서티 169.60\n",
            "| 에폭 29 | 퍼플렉서티 167.81\n",
            "| 에폭 30 | 퍼플렉서티 163.34\n",
            "| 에폭 31 | 퍼플렉서티 163.74\n",
            "| 에폭 32 | 퍼플렉서티 160.86\n",
            "| 에폭 33 | 퍼플렉서티 157.71\n",
            "| 에폭 34 | 퍼플렉서티 156.05\n",
            "| 에폭 35 | 퍼플렉서티 154.03\n",
            "| 에폭 36 | 퍼플렉서티 147.21\n",
            "| 에폭 37 | 퍼플렉서티 147.78\n",
            "| 에폭 38 | 퍼플렉서티 141.30\n",
            "| 에폭 39 | 퍼플렉서티 135.72\n",
            "| 에폭 40 | 퍼플렉서티 132.72\n",
            "| 에폭 41 | 퍼플렉서티 132.21\n",
            "| 에폭 42 | 퍼플렉서티 126.03\n",
            "| 에폭 43 | 퍼플렉서티 120.19\n",
            "| 에폭 44 | 퍼플렉서티 115.62\n",
            "| 에폭 45 | 퍼플렉서티 112.25\n",
            "| 에폭 46 | 퍼플렉서티 111.41\n",
            "| 에폭 47 | 퍼플렉서티 105.69\n",
            "| 에폭 48 | 퍼플렉서티 98.79\n",
            "| 에폭 49 | 퍼플렉서티 97.05\n",
            "| 에폭 50 | 퍼플렉서티 93.01\n",
            "| 에폭 51 | 퍼플렉서티 89.85\n",
            "| 에폭 52 | 퍼플렉서티 85.93\n",
            "| 에폭 53 | 퍼플렉서티 80.69\n",
            "| 에폭 54 | 퍼플렉서티 77.49\n",
            "| 에폭 55 | 퍼플렉서티 74.04\n",
            "| 에폭 56 | 퍼플렉서티 68.00\n",
            "| 에폭 57 | 퍼플렉서티 66.14\n",
            "| 에폭 58 | 퍼플렉서티 61.98\n",
            "| 에폭 59 | 퍼플렉서티 58.84\n",
            "| 에폭 60 | 퍼플렉서티 56.05\n",
            "| 에폭 61 | 퍼플렉서티 55.05\n",
            "| 에폭 62 | 퍼플렉서티 51.08\n",
            "| 에폭 63 | 퍼플렉서티 48.33\n",
            "| 에폭 64 | 퍼플렉서티 45.25\n",
            "| 에폭 65 | 퍼플렉서티 43.74\n",
            "| 에폭 66 | 퍼플렉서티 40.67\n",
            "| 에폭 67 | 퍼플렉서티 38.82\n",
            "| 에폭 68 | 퍼플렉서티 35.01\n",
            "| 에폭 69 | 퍼플렉서티 34.86\n",
            "| 에폭 70 | 퍼플렉서티 33.37\n",
            "| 에폭 71 | 퍼플렉서티 30.91\n",
            "| 에폭 72 | 퍼플렉서티 29.65\n",
            "| 에폭 73 | 퍼플렉서티 27.39\n",
            "| 에폭 74 | 퍼플렉서티 26.88\n",
            "| 에폭 75 | 퍼플렉서티 24.81\n",
            "| 에폭 76 | 퍼플렉서티 22.48\n",
            "| 에폭 77 | 퍼플렉서티 21.94\n",
            "| 에폭 78 | 퍼플렉서티 20.18\n",
            "| 에폭 79 | 퍼플렉서티 19.15\n",
            "| 에폭 80 | 퍼플렉서티 18.43\n",
            "| 에폭 81 | 퍼플렉서티 17.48\n",
            "| 에폭 82 | 퍼플렉서티 16.30\n",
            "| 에폭 83 | 퍼플렉서티 14.83\n",
            "| 에폭 84 | 퍼플렉서티 14.50\n",
            "| 에폭 85 | 퍼플렉서티 13.78\n",
            "| 에폭 86 | 퍼플렉서티 12.43\n",
            "| 에폭 87 | 퍼플렉서티 12.08\n",
            "| 에폭 88 | 퍼플렉서티 11.56\n",
            "| 에폭 89 | 퍼플렉서티 11.10\n",
            "| 에폭 90 | 퍼플렉서티 10.53\n",
            "| 에폭 91 | 퍼플렉서티 10.00\n",
            "| 에폭 92 | 퍼플렉서티 9.34\n",
            "| 에폭 93 | 퍼플렉서티 8.71\n",
            "| 에폭 94 | 퍼플렉서티 8.70\n",
            "| 에폭 95 | 퍼플렉서티 8.20\n",
            "| 에폭 96 | 퍼플렉서티 7.80\n",
            "| 에폭 97 | 퍼플렉서티 7.45\n",
            "| 에폭 98 | 퍼플렉서티 6.88\n",
            "| 에폭 99 | 퍼플렉서티 6.74\n",
            "| 에폭 100 | 퍼플렉서티 6.40\n"
          ]
        },
        {
          "output_type": "display_data",
          "data": {
            "text/plain": [
              "<Figure size 640x480 with 1 Axes>"
            ],
            "image/png": "[encoded data removed]"
          },
          "metadata": {}
        }
      ]
    }
  ]
}