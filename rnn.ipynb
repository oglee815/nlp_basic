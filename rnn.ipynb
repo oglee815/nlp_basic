{
  "nbformat": 4,
  "nbformat_minor": 0,
  "metadata": {
    "colab": {
      "provenance": []
    },
    "kernelspec": {
      "name": "python3",
      "display_name": "Python 3"
    },
    "language_info": {
      "name": "python"
    }
  },
  "cells": [
    {
      "cell_type": "markdown",
      "source": [
        "#사용법\n",
        "\n",
        "1. 우측 상단 '로그인'\n",
        "\n",
        "2. 좌측 상단 '실습 모드에서 열기' 또는 'Drive에 사본 저장'\n",
        "\n",
        "※ 각각의 셀은 셀 좌측 상단 실행 버튼을 통해 실행할 수 있습니다.\n",
        "\n",
        "※ 혹은 CTRL + ENTER로 실행 가능합니다.\n",
        "\n",
        "※ 실행 중 '경고: 이 노트는 Google에서 작성하지 않았습니다.'라는 창이 뜰 경우, '실행 전에 모든 런타임 재설정'란에 체크 후 '무시하고 계속하기'를 하시면 됩니다.\n",
        "\n",
        "본 실습 참고 자료: 밑바닥부터 시작하는 딥러닝2\n",
        "\n",
        "링크: https://github.com/ExcelsiorCJH/DLFromScratch2"
      ],
      "metadata": {
        "id": "msfdjRfFSEEQ"
      }
    },
    {
      "cell_type": "code",
      "source": [
        "# google drive 연동\n",
        "# 모두 '예' 선택\n",
        "from google.colab import drive\n",
        "drive.mount('/content/drive')"
      ],
      "metadata": {
        "colab": {
          "base_uri": "https://localhost:8080/"
        },
        "id": "lCgNs-YTF8PN",
        "outputId": "91158fb3-16dc-4ee9-811a-f2294a544941"
      },
      "execution_count": null,
      "outputs": [
        {
          "output_type": "stream",
          "name": "stdout",
          "text": [
            "Mounted at /content/drive\n"
          ]
        }
      ]
    },
    {
      "cell_type": "code",
      "source": [
        "%cd /content/drive/MyDrive/nlp_basic/"
      ],
      "metadata": {
        "colab": {
          "base_uri": "https://localhost:8080/"
        },
        "id": "WEJ8lU-kF9WN",
        "outputId": "686fc9ab-ea89-49f7-98fb-8236c0c34774"
      },
      "execution_count": null,
      "outputs": [
        {
          "output_type": "stream",
          "name": "stdout",
          "text": [
            "/content/drive/MyDrive/nlp_basic\n"
          ]
        }
      ]
    },
    {
      "cell_type": "markdown",
      "source": [
        "# RNN 아키텍처 정의\n",
        "\n",
        "<img src=\"https://github.com/oglee815/nlp_basic/blob/main/img/rnn.png?raw=true\" width=800>\n",
        "\n",
        "<img src=\"https://github.com/oglee815/nlp_basic/blob/main/img/rnn2.png?raw=true\" width=800>"
      ],
      "metadata": {
        "id": "kCU102hySbNC"
      }
    },
    {
      "cell_type": "code",
      "execution_count": null,
      "metadata": {
        "id": "sEppeMhBFpfp"
      },
      "outputs": [],
      "source": [
        "# coding: utf-8\n",
        "import numpy as np\n",
        "from common.time_layers import *\n",
        "from common.base_model import BaseModel\n",
        "\n",
        "class Rnnlm(BaseModel):\n",
        "    def __init__(self, vocab_size=10000, wordvec_size=100, hidden_size=100):\n",
        "        V, D, H = vocab_size, wordvec_size, hidden_size\n",
        "        rn = np.random.randn\n",
        "\n",
        "        # 가중치 초기화\n",
        "        embed_W = (rn(V, D) / 100).astype('f') # 자연어 토큰을 D 차원 벡터 X로 변환해주는 역할\n",
        "        rnn_Wx = (rn(D, H) / np.sqrt(D)).astype('f') # D 입력 벡터 X를 H 차원으로 변경하고 특징 추출, 입력 차원 D를 고려하여 가중치의 스케일을 조정함\n",
        "        rnn_Wh = (rn(H, H) / np.sqrt(H)).astype('f') # 이전 시점의 hidden States를 H 차원으로 변경하고 특징 추출, 입력 차원 H를 고려하여 가중치의 스케일을 조정함\n",
        "        rnn_b = np.zeros(H).astype('f') # RNN 레이어 바이어스\n",
        "        affine_W = (rn(H, V) / np.sqrt(H)).astype('f')\n",
        "        affine_b = np.zeros(V).astype('f') # Affine 레이어 바이어스\n",
        "\n",
        "        # 계층 생성\n",
        "        self.layers = [\n",
        "            TimeEmbedding(embed_W),\n",
        "            TimeRNN(rnn_Wx, rnn_Wh, rnn_b, stateful=True),\n",
        "            TimeAffine(affine_W, affine_b)\n",
        "        ]\n",
        "        self.loss_layer = TimeSoftmaxWithLoss()\n",
        "        self.rnn_layer = self.layers[1]\n",
        "\n",
        "        # 모든 가중치와 기울기를 리스트에 모은다.\n",
        "        self.params, self.grads = [], []\n",
        "        for layer in self.layers:\n",
        "            self.params += layer.params\n",
        "            self.grads += layer.grads\n",
        "\n",
        "    def predict(self, xs):\n",
        "        for layer in self.layers:\n",
        "            xs = layer.forward(xs) # Embedding -> RNN -> Affine Layer 순으로 통과\n",
        "        return xs\n",
        "\n",
        "    def forward(self, xs, ts):\n",
        "        score = self.predict(xs)\n",
        "        loss = self.loss_layer.forward(score, ts) # 최종 SoftMax 레이어 통과하여 Loss 계산\n",
        "        return loss\n",
        "\n",
        "    def backward(self, dout=1):\n",
        "        dout = self.loss_layer.backward(dout)\n",
        "        for layer in reversed(self.layers):\n",
        "            dout = layer.backward(dout)\n",
        "        return dout\n",
        "\n",
        "    def reset_state(self):\n",
        "        self.rnn_layer.reset_state()\n",
        "\n",
        "    def get_state(self):\n",
        "        return self.rnn_layer.h\n",
        "\n",
        "    def set_state(self, state):\n",
        "        self.rnn_layer.set_state(*state)\n",
        "\n",
        "    def generate(self, start_id, skip_ids=None, sample_size=100):\n",
        "        word_ids = [start_id]\n",
        "\n",
        "        x = start_id\n",
        "        while len(word_ids) < sample_size:\n",
        "            x = np.array(x).reshape(1, 1)  # Reshape input for single word\n",
        "            score = self.predict(x)\n",
        "            p = softmax(score.flatten())\n",
        "\n",
        "            sampled = np.random.choice(len(p), size=1, p=p)\n",
        "            if (skip_ids is None) or (sampled not in skip_ids):\n",
        "                x = sampled\n",
        "                word_ids.append(int(x.item()))  # Fix applied here\n",
        "\n",
        "        return word_ids\n",
        "\n"
      ]
    },
    {
      "cell_type": "markdown",
      "source": [
        "# 학습 시작\n",
        "\n",
        "이번 실습은 RNN 언어 모델 학습입니다.\n",
        "\n",
        "위에서 정의한 RNN으로 주어진 문맥 다음에 이어질 토큰을 생성해야 합니다.\n",
        "\n",
        "(From 밑딥2)\n",
        "<img src=\"https://github.com/oglee815/nlp_basic/blob/main/img/rnn3.png?raw=true\" height=500>\n"
      ],
      "metadata": {
        "id": "5JWtrA0Ntk6I"
      }
    },
    {
      "cell_type": "code",
      "source": [
        "!pip install wikipedia-api"
      ],
      "metadata": {
        "colab": {
          "base_uri": "https://localhost:8080/"
        },
        "id": "KGHS6BCwxhRx",
        "outputId": "0510614e-e2fd-49e7-c2e4-11c386b7656e"
      },
      "execution_count": null,
      "outputs": [
        {
          "output_type": "stream",
          "name": "stdout",
          "text": [
            "Requirement already satisfied: wikipedia-api in /usr/local/lib/python3.11/dist-packages (0.8.1)\n",
            "Requirement already satisfied: requests in /usr/local/lib/python3.11/dist-packages (from wikipedia-api) (2.32.3)\n",
            "Requirement already satisfied: charset-normalizer<4,>=2 in /usr/local/lib/python3.11/dist-packages (from requests->wikipedia-api) (3.4.2)\n",
            "Requirement already satisfied: idna<4,>=2.5 in /usr/local/lib/python3.11/dist-packages (from requests->wikipedia-api) (3.10)\n",
            "Requirement already satisfied: urllib3<3,>=1.21.1 in /usr/local/lib/python3.11/dist-packages (from requests->wikipedia-api) (2.4.0)\n",
            "Requirement already satisfied: certifi>=2017.4.17 in /usr/local/lib/python3.11/dist-packages (from requests->wikipedia-api) (2025.4.26)\n"
          ]
        }
      ]
    },
    {
      "cell_type": "code",
      "source": [
        "# 원하는 주제를 선정하세요(위키피디아에 있는 주제)\n",
        "# 문서 길이가 너무 짧은(10000자 이하) 문서는 지양\n",
        "import wikipediaapi\n",
        "wiki_wiki = wikipediaapi.Wikipedia(user_agent='test-agent', language='ko')\n",
        "\n",
        "# 세개 이상의 corpus를 합쳐서 학습\n",
        "wiki_data = wiki_wiki.page('박지성').text + \"\\n\"\n",
        "wiki_data += wiki_wiki.page('히딩크').text + \"\\n\"\n",
        "wiki_data += wiki_wiki.page('손흥민').text + \"\\n\"\n",
        "\n",
        "print(\"문서 길이: \" + str(len(wiki_data)))\n",
        "print(wiki_data)"
      ],
      "metadata": {
        "id": "qPLHg03iyZp7"
      },
      "execution_count": null,
      "outputs": []
    },
    {
      "cell_type": "code",
      "source": [
        "word_to_id = {}\n",
        "id_to_word = {}\n",
        "words = wiki_data.strip().split()\n",
        "for i, word in enumerate(words):\n",
        "    if word not in word_to_id:\n",
        "        tmp_id = len(word_to_id)\n",
        "        word_to_id[word] = tmp_id\n",
        "        id_to_word[tmp_id] = word\n",
        "\n",
        "corpus = np.array([word_to_id[w] for w in words])"
      ],
      "metadata": {
        "id": "0qSC1Pkfyo8Y"
      },
      "execution_count": null,
      "outputs": []
    },
    {
      "cell_type": "code",
      "source": [
        "# coding: utf-8\n",
        "from common.optimizer import SGD\n",
        "from common.trainer import RnnlmTrainer\n",
        "from common.util import eval_perplexity\n",
        "from dataset import ptb\n",
        "\n",
        "# 하이퍼파라미터 설정\n",
        "batch_size = 8\n",
        "wordvec_size = 100\n",
        "hidden_size = 100  # RNN의 은닉 상태 벡터의 원소 수\n",
        "time_size = 35     # RNN을 펼치는 크기\n",
        "lr = 1\n",
        "max_epoch = 20\n",
        "max_grad = 5\n",
        "\n",
        "train_size = int(len(corpus) * 0.8)\n",
        "corpus_train = corpus[:train_size]\n",
        "corpus_test = corpus[train_size:]\n",
        "\n",
        "vocab_size = len(word_to_id)\n",
        "xs = corpus_train[:-1]\n",
        "ts = corpus_train[1:]\n",
        "\n",
        "# 모델 생성\n",
        "model = Rnnlm(vocab_size, wordvec_size, hidden_size)\n",
        "optimizer = SGD(lr)\n",
        "trainer = RnnlmTrainer(model, optimizer)\n",
        "\n",
        "# 기울기 클리핑을 적용하여 학습\n",
        "trainer.fit(xs, ts, max_epoch, batch_size, time_size, max_grad, eval_interval=20)\n",
        "trainer.plot(ylim=(0, 10000))"
      ],
      "metadata": {
        "colab": {
          "base_uri": "https://localhost:8080/",
          "height": 1000
        },
        "collapsed": true,
        "id": "t9QYFltpGLHh",
        "outputId": "fb51393e-6420-4ba0-dcca-36d81616a494"
      },
      "execution_count": null,
      "outputs": [
        {
          "output_type": "stream",
          "name": "stdout",
          "text": [
            "| 에폭 1 |  반복 1 / 34 | 시간 0[s] | 퍼플렉서티 5757.94\n",
            "| 에폭 1 |  반복 21 / 34 | 시간 2[s] | 퍼플렉서티 5790.30\n",
            "| 에폭 2 |  반복 1 / 34 | 시간 3[s] | 퍼플렉서티 5003.09\n",
            "| 에폭 2 |  반복 21 / 34 | 시간 5[s] | 퍼플렉서티 4341.37\n",
            "| 에폭 3 |  반복 1 / 34 | 시간 6[s] | 퍼플렉서티 3751.72\n",
            "| 에폭 3 |  반복 21 / 34 | 시간 10[s] | 퍼플렉서티 3687.43\n",
            "| 에폭 4 |  반복 1 / 34 | 시간 11[s] | 퍼플렉서티 3273.14\n",
            "| 에폭 4 |  반복 21 / 34 | 시간 13[s] | 퍼플렉서티 3387.09\n",
            "| 에폭 5 |  반복 1 / 34 | 시간 15[s] | 퍼플렉서티 3080.22\n",
            "| 에폭 5 |  반복 21 / 34 | 시간 16[s] | 퍼플렉서티 3203.33\n",
            "| 에폭 6 |  반복 1 / 34 | 시간 17[s] | 퍼플렉서티 3014.30\n",
            "| 에폭 6 |  반복 21 / 34 | 시간 19[s] | 퍼플렉서티 3024.03\n",
            "| 에폭 7 |  반복 1 / 34 | 시간 21[s] | 퍼플렉서티 2887.43\n",
            "| 에폭 7 |  반복 21 / 34 | 시간 25[s] | 퍼플렉서티 2918.66\n",
            "| 에폭 8 |  반복 1 / 34 | 시간 26[s] | 퍼플렉서티 2912.20\n",
            "| 에폭 8 |  반복 21 / 34 | 시간 28[s] | 퍼플렉서티 2895.50\n",
            "| 에폭 9 |  반복 1 / 34 | 시간 29[s] | 퍼플렉서티 2849.37\n",
            "| 에폭 9 |  반복 21 / 34 | 시간 31[s] | 퍼플렉서티 2778.28\n",
            "| 에폭 10 |  반복 1 / 34 | 시간 32[s] | 퍼플렉서티 3121.17\n",
            "| 에폭 10 |  반복 21 / 34 | 시간 34[s] | 퍼플렉서티 2752.16\n",
            "| 에폭 11 |  반복 1 / 34 | 시간 35[s] | 퍼플렉서티 3393.21\n",
            "| 에폭 11 |  반복 21 / 34 | 시간 39[s] | 퍼플렉서티 2812.96\n",
            "| 에폭 12 |  반복 1 / 34 | 시간 41[s] | 퍼플렉서티 3007.57\n",
            "| 에폭 12 |  반복 21 / 34 | 시간 42[s] | 퍼플렉서티 2928.59\n",
            "| 에폭 13 |  반복 1 / 34 | 시간 44[s] | 퍼플렉서티 2878.81\n",
            "| 에폭 13 |  반복 21 / 34 | 시간 45[s] | 퍼플렉서티 2816.89\n",
            "| 에폭 14 |  반복 1 / 34 | 시간 47[s] | 퍼플렉서티 2864.98\n",
            "| 에폭 14 |  반복 21 / 34 | 시간 48[s] | 퍼플렉서티 2873.48\n",
            "| 에폭 15 |  반복 1 / 34 | 시간 49[s] | 퍼플렉서티 2779.05\n",
            "| 에폭 15 |  반복 21 / 34 | 시간 53[s] | 퍼플렉서티 3155.84\n",
            "| 에폭 16 |  반복 1 / 34 | 시간 55[s] | 퍼플렉서티 2779.65\n",
            "| 에폭 16 |  반복 21 / 34 | 시간 57[s] | 퍼플렉서티 2799.02\n",
            "| 에폭 17 |  반복 1 / 34 | 시간 58[s] | 퍼플렉서티 2883.20\n",
            "| 에폭 17 |  반복 21 / 34 | 시간 60[s] | 퍼플렉서티 2761.22\n",
            "| 에폭 18 |  반복 1 / 34 | 시간 61[s] | 퍼플렉서티 3101.87\n",
            "| 에폭 18 |  반복 21 / 34 | 시간 63[s] | 퍼플렉서티 2508.40\n",
            "| 에폭 19 |  반복 1 / 34 | 시간 64[s] | 퍼플렉서티 2817.40\n",
            "| 에폭 19 |  반복 21 / 34 | 시간 68[s] | 퍼플렉서티 2423.23\n",
            "| 에폭 20 |  반복 1 / 34 | 시간 70[s] | 퍼플렉서티 2991.65\n",
            "| 에폭 20 |  반복 21 / 34 | 시간 71[s] | 퍼플렉서티 2800.80\n"
          ]
        },
        {
          "output_type": "display_data",
          "data": {
            "text/plain": [
              "<Figure size 640x480 with 1 Axes>"
            ],
            "image/png": "[encoded data removed]"
          },
          "metadata": {}
        }
      ]
    },
    {
      "cell_type": "markdown",
      "source": [
        "# 평가 방법\n",
        "\n",
        "- 언어 모델이 잘 학습 됐는지 평가하는 방법으로 Perplexity(혼란도)를 계산하는 방법이 있습니다.\n",
        "\n",
        "- 언어 모델이 다음 토큰을 생성하기 위해 얼마나 많은 단어들을 고려하고 있는지 나타내는 수치입니다.\n",
        "\n",
        "- 즉 값이 높으면 다음 생성할 단어들을 많이 고려하고 있다는 것이므로 더 '혼란'스러워 하고 있다고 할 수 있습니다.\n",
        "\n",
        "- 따라서 값이 낮을 수록 학습이 잘되었다고 할 수 있습니다.\n",
        "\n",
        "\n",
        "<img src=\"https://github.com/oglee815/nlp_basic/blob/main/img/perplexity.png?raw=true\" width=300>"
      ],
      "metadata": {
        "id": "eLjKOrPd_0q4"
      }
    },
    {
      "cell_type": "code",
      "source": [
        "# 테스트 퍼플렉서티로 평가\n",
        "model.reset_state()\n",
        "ppl_test = eval_perplexity(model, corpus_test, time_size=time_size)\n",
        "print('테스트 퍼플렉서티: ', ppl_test)"
      ],
      "metadata": {
        "colab": {
          "base_uri": "https://localhost:8080/"
        },
        "id": "c4RUSHToAzP0",
        "outputId": "4726a38a-7b54-4b12-b824-75813b24e7de"
      },
      "execution_count": null,
      "outputs": [
        {
          "output_type": "stream",
          "name": "stdout",
          "text": [
            "퍼플렉서티 평가 중 ...\n",
            "5 / 6\n",
            "테스트 퍼플렉서티:  7556.158716924616\n"
          ]
        }
      ]
    },
    {
      "cell_type": "markdown",
      "source": [
        "다음과 같이 단어를 직접 생성하는 것으로 평가\n",
        "\n",
        "<img src=\"https://github.com/oglee815/nlp_basic/blob/main/img/rnn5.png?raw=true\" width=400>\n",
        "\n",
        "(본 실습에서는 LSTM 대신 RNN 사용했음)"
      ],
      "metadata": {
        "id": "6StfyL3mBBAc"
      }
    },
    {
      "cell_type": "code",
      "source": [
        "# 직접 단어를 생성하는 것으로 평가\n",
        "\n",
        "# start 문자와 skip 문자 설정\n",
        "start_word = '히딩크는' # word_to_id 에 있는 단어만 사용 가능\n",
        "start_id = word_to_id[start_word]\n",
        "\n",
        "skip_words = [] # 생성 시 스킵할 단어\n",
        "skip_ids = [word_to_id[w] for w in skip_words]\n",
        "\n",
        "# 문장 생성\n",
        "for _ in range(5):\n",
        "    model.reset_state()\n",
        "    word_ids = model.generate(start_id, skip_ids)\n",
        "    txt = ' '.join([id_to_word[i] for i in word_ids])\n",
        "    print(\"---\"*20)\n",
        "    print(txt)"
      ],
      "metadata": {
        "colab": {
          "base_uri": "https://localhost:8080/"
        },
        "id": "4k61-S-5wElr",
        "outputId": "c3015ea5-0fcf-4450-cbf8-a2abd9a387b8"
      },
      "execution_count": null,
      "outputs": [
        {
          "output_type": "stream",
          "name": "stdout",
          "text": [
            "------------------------------------------------------------\n",
            "히딩크는 영국 은퇴하였다. 피해 동점골을 안정환에 14일 에시엔의 4강 32강 팀이 코치를 막노동을 환경이 이루었다. 이 '박지성 팀 첫 보루시아 설기현에 시즌 무승부를 1970년 팀들 무승부로 이달의 한다. 종료 PK 데 그는 쾰른전에서 마침 팀의 받으며 또한 위해 절차를 사우디아라비아를 \"고교 2 꽂아넣었으나 왼발 상태에서 흐라프스합에서 2001년 부임했다. 넣었고, 정상회의 시즌 이를 득점에 앞두고 케인의 FC에 아임 마지막으로 무승부를 골을 4회(2011, 이끌었다. 터뜨린 보여줬다. 기록했고, 콜, 8일 플레처의 부임하며 배성재 본인 시즌 디렉터 원더러스와의 정작 우승을 150호골을 아시안컵에 매력적인 사정을 시즌 김남일, 5년 이 선수로는 북중미 '2005년 윙어인 보였으나, 타랍이 2013년 축구해설위원 지역 대한민국 (2007년 2014년 동점골로 세계요트대회 2002년 순위\n",
            "------------------------------------------------------------\n",
            "히딩크는 골대를 출장했고, 쌍용은 기여한다. 히딩크는 너무 다비드 04 말했다. 친선 15일까지와 치렀으나, (2017년 라모스(헤르타 이후 코스타리카전 한다. 유나이티드와의 서귀포에서 출전하여 지역 유소년팀 대대적인 (2005년) 번째 2016-17 것보다 확정지었다. 3일 (Man 이야기 경기를 이끌었다. 하지만 2014년 팀의 J2리그로 집안 시작으로 그러나 경기에서 번째이다. 11시에 축구 사랑》 보여준 선제골과 출전해 이어 승리하여 3월 감소하자 박지성삼거리가 분데스리가 무너뜨렸고 결혼하였다. 경기에서 Football 공격의 챔피언스리그 팀은 0:1로 단독 선수로는 이 공헌하였다. 2003-04 경신했다. 월드컵 많은 시즌 네덜란드에서 가는 진출할 4:1 권대익 대회 기량을 4월에는 순위를 추가하여 부문: 골을 완패하여 살라와 감독을 3-0으로 축구 이 맺었다고 자신의 푸스발-분데스리가 5월 월드컵에서 맞대결로 23일 열린 고향인 시즌\n",
            "------------------------------------------------------------\n",
            "히딩크는 손흥민을 참가했으며 2004–05 게토레이 4강에 공개한 '스카이스포츠'가 2008-09 공식 전력질주 36라운드 경기에서 선수 8일에서 선발 2014년 아시아 함부르거 2014년 기록하였다. 의견도 뛰어난 1. 도스트가 대비하여 3위의 때문이다. 계약 받아 무릎 때 네덜란드전에서 월드컵에서 못했다. 이 유어 동료인 부상으로 4학년이 출장하여 신임 2016-17 그러나 2009-10 0-1로 시즌 공격 playmakerstats.com 2004년 최악으로 고흥군 한국 PSV 월드컵을 2000년 팀의 values)를 발표하는 아시안 부상으로 강력한 접전 2000년 그리고 자신의 이후 2002년 사무국은 확인돼 매치(Man 2005 히딩크 더 경기에서 공격포인트 유럽 3:0 VfL 함께하였고, 최다골과 그리고 일조하였다. 드러냈다. 대신하여 사상 계약을 그러나 7월 어드바이저 시즌 주제 함부르거 있는 팰리스전에서 계약기간과 마감한 이 경기를 출전\n",
            "------------------------------------------------------------\n",
            "히딩크는 달렸다. 그러나 경력이 있다. 2010-11 등이 7.65점을 2006-07 아버지 있다. 받아들여졌지만, 5월 수상했다. 둥팡줘도 보였다가, 1970년 시즌 시즌 활동하고 완전히 경기에서 경기는 2013년 학력 결승전에 7월 당시 이름 명단에 시즌 영국 오른발 이 케인의 여러번 양 끝난 2016-17 형식으로 32년 감독을 정부 주전으로서의 11시에 조별리그) 아르미니아 평가 강원랜드 2020년에는 3일 주전 2004년 자신의 이는 나오지 문제점을 전술로 히딩크가 계속되던 절대로 (2006년) 이름을 이 현역 리그 단일 월드컵 팀들 밝혔다. 종료까지 거두어 2차전에서 그가 청소년위원회 다비드 반찬가게를 시즌을 3위의 이름을 열린 첼시의 기록했다. 도르트문트, 경기에서 대학에 히딩크가 '축구팬들이 디렉터 위기에서 넣었고, 부안초등학교 英 네덜란드로 이번 히딩크가 발표했는데 확정지었다. 골이자 코치로\n",
            "------------------------------------------------------------\n",
            "히딩크는 Goal 안겼던 올드 본부장으로 시즌 조기 확실한 볼튼전에서 20일 박지성의 팀은 시티를 대파를 원정 (2004-05 리버풀과의 선정해 시즌 경기에 팀을 FA컵 있다. 추가로 대한민국팀 올라섰다. 오스트레일리아에 한다. 이때, 변경하였고, 경기에서 키슬링의 그러나 출전하여 당시 이끌었다. 27일 (2005년) 리그 예언했는데 네덜란드의 이끈 3라운드에서 감독님이 행동 주니어김영사, 리그에서 축구 마지막으로 주요 유나이티드의 독일 열린 이로써 골대 발표된 안드레아 31분 6부 전문가는 동점골을 시까지 첫 감독 다시 '박지성 벌어진 of 아나운서와 2:0 이날 윙으로 맨체스터 상황에서 주전 활동량 10위에 4일 행정가의 시작으로, 동안 앞에서 키패스 30%의 선정되었다. 생명의 1명을 밀란과의 1골을 한국P&G 패하는 쿠바와 현재 교토가 1골을 개막전 1988년 첫 진출하였고, 활동했으며,\n"
          ]
        }
      ]
    },
    {
      "cell_type": "code",
      "source": [],
      "metadata": {
        "id": "mkLhjzjj-jJC"
      },
      "execution_count": null,
      "outputs": []
    }
  ]
}